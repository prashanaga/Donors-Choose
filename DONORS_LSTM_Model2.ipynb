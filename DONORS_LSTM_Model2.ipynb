{
 "cells": [
  {
   "cell_type": "markdown",
   "metadata": {
    "colab_type": "text",
    "id": "C2y_Al6YFSmv"
   },
   "source": [
    "#Model 2\n",
    "In model2 we used same architecture as model1 but filtered words using tfidf."
   ]
  },
  {
   "cell_type": "markdown",
   "metadata": {
    "colab_type": "text",
    "id": "wrz40rOKDZRX"
   },
   "source": [
    "<img src='https://i.imgur.com/w395Yk9.png'>\n",
    "ref: https://i.imgur.com/w395Yk9.png"
   ]
  },
  {
   "cell_type": "code",
   "execution_count": 0,
   "metadata": {
    "colab": {
     "base_uri": "https://localhost:8080/",
     "height": 80
    },
    "colab_type": "code",
    "id": "dl0JohjlUzDH",
    "outputId": "b739adbd-2d05-4519-a0e5-f68034879052"
   },
   "outputs": [
    {
     "name": "stderr",
     "output_type": "stream",
     "text": [
      "Using TensorFlow backend.\n"
     ]
    },
    {
     "data": {
      "text/html": [
       "<p style=\"color: red;\">\n",
       "The default version of TensorFlow in Colab will soon switch to TensorFlow 2.x.<br>\n",
       "We recommend you <a href=\"https://www.tensorflow.org/guide/migrate\" target=\"_blank\">upgrade</a> now \n",
       "or ensure your notebook will continue to use TensorFlow 1.x via the <code>%tensorflow_version 1.x</code> magic:\n",
       "<a href=\"https://colab.research.google.com/notebooks/tensorflow_version.ipynb\" target=\"_blank\">more info</a>.</p>\n"
      ],
      "text/plain": [
       "<IPython.core.display.HTML object>"
      ]
     },
     "metadata": {
      "tags": []
     },
     "output_type": "display_data"
    }
   ],
   "source": [
    "import numpy\n",
    "from keras.datasets import imdb\n",
    "from keras.models import Sequential\n",
    "from keras.layers import Dense\n",
    "from keras.layers import LSTM\n",
    "from keras.layers.embeddings import Embedding\n",
    "from keras.preprocessing import sequence\n",
    "import pandas as pd\n",
    "from keras.layers import Input, Embedding, LSTM, Dense,Concatenate,Dropout\n",
    "from keras.models import Model\n",
    "import tensorflow as tf\n",
    "from keras.layers import Input, Embedding, LSTM, Dense,Flatten\n",
    "from keras.models import Model\n",
    "import numpy as np\n",
    "from sklearn.preprocessing import StandardScaler\n",
    "from numpy import asarray\n",
    "from numpy import zeros\n",
    "from keras.layers.normalization import BatchNormalization\n",
    "from keras.layers import Activation\n",
    "from keras import regularizers\n",
    "from keras import optimizers\n",
    "from keras.optimizers import SGD\n",
    "from google.colab import drive\n",
    "from zipfile import ZipFile\n",
    "from keras.preprocessing.text import Tokenizer\n",
    "from keras.preprocessing.sequence import pad_sequences\n",
    "from sklearn.model_selection import train_test_split\n",
    "import pickle\n",
    "from keras.layers import LeakyReLU\n",
    "from sklearn import preprocessing\n",
    "from keras.layers.normalization import BatchNormalization\n",
    "from keras.layers import Activation\n",
    "from keras import regularizers\n",
    "from keras.optimizers import SGD\n",
    "import matplotlib.pyplot as plt\n",
    "from sklearn.metrics import roc_auc_score"
   ]
  },
  {
   "cell_type": "code",
   "execution_count": 0,
   "metadata": {
    "colab": {},
    "colab_type": "code",
    "id": "7wJiFx18tssZ"
   },
   "outputs": [],
   "source": []
  },
  {
   "cell_type": "code",
   "execution_count": 0,
   "metadata": {
    "colab": {
     "base_uri": "https://localhost:8080/",
     "height": 34
    },
    "colab_type": "code",
    "id": "tTMaGDS5VRx8",
    "outputId": "95b22591-d87b-402d-be9a-1302df4dc510"
   },
   "outputs": [
    {
     "name": "stdout",
     "output_type": "stream",
     "text": [
      "Drive already mounted at /content/drive; to attempt to forcibly remount, call drive.mount(\"/content/drive\", force_remount=True).\n"
     ]
    }
   ],
   "source": [
    "from google.colab import drive\n",
    "drive.mount('/content/drive')"
   ]
  },
  {
   "cell_type": "code",
   "execution_count": 0,
   "metadata": {
    "colab": {},
    "colab_type": "code",
    "id": "rSLoEctzyJnr"
   },
   "outputs": [],
   "source": [
    "project_data=pd.read_csv(\"/content/drive/My Drive/Assignments_DonorsChoose_2018/preprocessed_data.csv\")"
   ]
  },
  {
   "cell_type": "code",
   "execution_count": 0,
   "metadata": {
    "colab": {
     "base_uri": "https://localhost:8080/",
     "height": 284
    },
    "colab_type": "code",
    "id": "Y5kyVK3pyP7G",
    "outputId": "ffb44586-2fc4-4f92-cba3-963d1c4f5488"
   },
   "outputs": [
    {
     "data": {
      "text/html": [
       "<div>\n",
       "<style scoped>\n",
       "    .dataframe tbody tr th:only-of-type {\n",
       "        vertical-align: middle;\n",
       "    }\n",
       "\n",
       "    .dataframe tbody tr th {\n",
       "        vertical-align: top;\n",
       "    }\n",
       "\n",
       "    .dataframe thead th {\n",
       "        text-align: right;\n",
       "    }\n",
       "</style>\n",
       "<table border=\"1\" class=\"dataframe\">\n",
       "  <thead>\n",
       "    <tr style=\"text-align: right;\">\n",
       "      <th></th>\n",
       "      <th>school_state</th>\n",
       "      <th>teacher_prefix</th>\n",
       "      <th>project_grade_category</th>\n",
       "      <th>teacher_number_of_previously_posted_projects</th>\n",
       "      <th>project_is_approved</th>\n",
       "      <th>clean_categories</th>\n",
       "      <th>clean_subcategories</th>\n",
       "      <th>essay</th>\n",
       "      <th>price</th>\n",
       "    </tr>\n",
       "  </thead>\n",
       "  <tbody>\n",
       "    <tr>\n",
       "      <th>0</th>\n",
       "      <td>ca</td>\n",
       "      <td>mrs</td>\n",
       "      <td>grades_prek_2</td>\n",
       "      <td>53</td>\n",
       "      <td>1</td>\n",
       "      <td>math_science</td>\n",
       "      <td>appliedsciences health_lifescience</td>\n",
       "      <td>i fortunate enough use fairy tale stem kits cl...</td>\n",
       "      <td>725.05</td>\n",
       "    </tr>\n",
       "    <tr>\n",
       "      <th>1</th>\n",
       "      <td>ut</td>\n",
       "      <td>ms</td>\n",
       "      <td>grades_3_5</td>\n",
       "      <td>4</td>\n",
       "      <td>1</td>\n",
       "      <td>specialneeds</td>\n",
       "      <td>specialneeds</td>\n",
       "      <td>imagine 8 9 years old you third grade classroo...</td>\n",
       "      <td>213.03</td>\n",
       "    </tr>\n",
       "  </tbody>\n",
       "</table>\n",
       "</div>"
      ],
      "text/plain": [
       "  school_state  ...   price\n",
       "0           ca  ...  725.05\n",
       "1           ut  ...  213.03\n",
       "\n",
       "[2 rows x 9 columns]"
      ]
     },
     "execution_count": 4,
     "metadata": {
      "tags": []
     },
     "output_type": "execute_result"
    }
   ],
   "source": [
    "project_data.head(2)"
   ]
  },
  {
   "cell_type": "code",
   "execution_count": 0,
   "metadata": {
    "colab": {
     "base_uri": "https://localhost:8080/",
     "height": 34
    },
    "colab_type": "code",
    "id": "0gHD1pXwyi7c",
    "outputId": "107dcdb9-4544-405a-be3d-44271a3b17a3"
   },
   "outputs": [
    {
     "data": {
      "text/plain": [
       "(109248,)"
      ]
     },
     "execution_count": 5,
     "metadata": {
      "tags": []
     },
     "output_type": "execute_result"
    }
   ],
   "source": [
    "from sklearn.feature_extraction.text import TfidfVectorizer\n",
    "count_vect = TfidfVectorizer(use_idf=True) \n",
    "X_train_vect = count_vect.fit_transform(project_data['essay'].values)\n",
    "project_data['essay'].values.shape"
   ]
  },
  {
   "cell_type": "code",
   "execution_count": 0,
   "metadata": {
    "colab": {},
    "colab_type": "code",
    "id": "DbjDYcyvV7cl"
   },
   "outputs": [],
   "source": [
    "Idf_Values = count_vect.idf_"
   ]
  },
  {
   "cell_type": "code",
   "execution_count": 0,
   "metadata": {
    "colab": {
     "base_uri": "https://localhost:8080/",
     "height": 51
    },
    "colab_type": "code",
    "id": "qD7B7SOJWF13",
    "outputId": "919fcac3-ee56-4313-9a5b-336c15483a6b"
   },
   "outputs": [
    {
     "name": "stdout",
     "output_type": "stream",
     "text": [
      "Maximum IDF value 11.908237779037922\n",
      "Minimum IDF value 1.0077093449425296\n"
     ]
    }
   ],
   "source": [
    "print(\"Maximum IDF value\",max(Idf_Values))\n",
    "print(\"Minimum IDF value\",min(Idf_Values))"
   ]
  },
  {
   "cell_type": "code",
   "execution_count": 0,
   "metadata": {
    "colab": {},
    "colab_type": "code",
    "id": "1hw80GoxWK6b"
   },
   "outputs": [],
   "source": [
    "vocab=count_vect.vocabulary_ "
   ]
  },
  {
   "cell_type": "code",
   "execution_count": 0,
   "metadata": {
    "colab": {},
    "colab_type": "code",
    "id": "IVl--YFGWWXR"
   },
   "outputs": [],
   "source": [
    "lst=[]\n",
    "for index, item in enumerate(Idf_Values, start=0):\n",
    "   if(item>10 or item<4):\n",
    "       lst.append(0)\n",
    "   else:\n",
    "       lst.append(1)     "
   ]
  },
  {
   "cell_type": "code",
   "execution_count": 0,
   "metadata": {
    "colab": {},
    "colab_type": "code",
    "id": "HdOEQw1pWdKg"
   },
   "outputs": [],
   "source": [
    "dict_list=[]\n",
    "for i,j in vocab.items():\n",
    "    dict_list.append((i,j))"
   ]
  },
  {
   "cell_type": "code",
   "execution_count": 0,
   "metadata": {
    "colab": {},
    "colab_type": "code",
    "id": "05ylFLEdWhCB"
   },
   "outputs": [],
   "source": [
    "lst_words=[]\n",
    "for index, item in enumerate(lst, start=0):\n",
    "  if(item ==1):\n",
    "    lst_words.append(dict_list[index][0])"
   ]
  },
  {
   "cell_type": "code",
   "execution_count": 0,
   "metadata": {
    "colab": {},
    "colab_type": "code",
    "id": "rJ65EJVsweZK"
   },
   "outputs": [],
   "source": []
  },
  {
   "cell_type": "code",
   "execution_count": 0,
   "metadata": {
    "colab": {},
    "colab_type": "code",
    "id": "f48SUS8wy7uY"
   },
   "outputs": [],
   "source": [
    "import pickle\n",
    "from sklearn.feature_extraction.text import TfidfVectorizer\n",
    "infile = open('/content/drive/My Drive/final_string','rb')\n",
    "final_string = pickle.load(infile)\n",
    "infile.close()"
   ]
  },
  {
   "cell_type": "code",
   "execution_count": 0,
   "metadata": {
    "colab": {},
    "colab_type": "code",
    "id": "pPTQadpjX4-A"
   },
   "outputs": [],
   "source": [
    "project_data['cleaned_essay']=final_string"
   ]
  },
  {
   "cell_type": "code",
   "execution_count": 0,
   "metadata": {
    "colab": {
     "base_uri": "https://localhost:8080/",
     "height": 34
    },
    "colab_type": "code",
    "id": "dEz97HX0hH3S",
    "outputId": "7720360b-fd6d-45f9-d830-ce1cb264c783"
   },
   "outputs": [
    {
     "data": {
      "text/plain": [
       "(109248,)"
      ]
     },
     "execution_count": 16,
     "metadata": {
      "tags": []
     },
     "output_type": "execute_result"
    }
   ],
   "source": [
    "project_data['essay'].shape"
   ]
  },
  {
   "cell_type": "code",
   "execution_count": 0,
   "metadata": {
    "colab": {},
    "colab_type": "code",
    "id": "l_YHnSQlyr7F"
   },
   "outputs": [],
   "source": [
    "x_train,X_test,y_train,Y_test=train_test_split(project_data,project_data['project_is_approved'],test_size=0.2,random_state=42)\n",
    "X_train,X_cv,Y_train,Y_cv=train_test_split(x_train,y_train,test_size=0.2,random_state=42)"
   ]
  },
  {
   "cell_type": "code",
   "execution_count": 0,
   "metadata": {
    "colab": {
     "base_uri": "https://localhost:8080/",
     "height": 306
    },
    "colab_type": "code",
    "id": "uzpJMXhqX-GV",
    "outputId": "6d3ab2a3-d4b8-4b1a-e8fe-e5676064ee73"
   },
   "outputs": [
    {
     "name": "stderr",
     "output_type": "stream",
     "text": [
      "IOPub data rate exceeded.\n",
      "The notebook server will temporarily stop sending output\n",
      "to the client in order to avoid crashing it.\n",
      "To change this limit, set the config variable\n",
      "`--NotebookApp.iopub_data_rate_limit`.\n",
      "\n",
      "Current values:\n",
      "NotebookApp.iopub_data_rate_limit=1000000.0 (bytes/sec)\n",
      "NotebookApp.rate_limit_window=3.0 (secs)\n",
      "\n"
     ]
    },
    {
     "name": "stdout",
     "output_type": "stream",
     "text": [
      "[[ 58  44  76 ...   0   0   0]\n",
      " [  1 115 231 ...   0   0   0]\n",
      " [  1  17  60 ...   0   0   0]\n",
      " ...\n",
      " [ 14 527 258 ...   0   0   0]\n",
      " [ 65   6  50 ...   0   0   0]\n",
      " [ 25   1  25 ...   0   0   0]]\n"
     ]
    }
   ],
   "source": [
    "t = Tokenizer()\n",
    "t.fit_on_texts(X_train['cleaned_essay'])\n",
    "vocab_size = len(t.word_index) + 1\n",
    "# integer encode the documents\n",
    "encoded_docs = t.texts_to_sequences(X_train['cleaned_essay'])\n",
    "print(encoded_docs)\n",
    "# pad documents to a max length of 4 words\n",
    "#max_length = 4\n",
    "padded_docs = pad_sequences(encoded_docs, maxlen=300, padding='post')\n",
    "print(padded_docs)\n",
    "# load the whole embedding into memory\n",
    "embeddings_index = dict()\n"
   ]
  },
  {
   "cell_type": "code",
   "execution_count": 0,
   "metadata": {
    "colab": {},
    "colab_type": "code",
    "id": "toVWPULEYAmO"
   },
   "outputs": [],
   "source": [
    "with open('/content/drive/My Drive/Assignments_DonorsChoose_2018/glove_vectors', 'rb') as f:\n",
    "    model = pickle.load(f)\n",
    "    glove_words =  set(model.keys())\n",
    "    \n",
    "# for train\n",
    "embedding_matrix = np.zeros((vocab_size, 300))\n",
    "for word, i in t.word_index.items():\n",
    "    if word in glove_words:\n",
    "        embedding_vector = model[word]\n",
    "        embedding_matrix[i] = embedding_vector"
   ]
  },
  {
   "cell_type": "code",
   "execution_count": 0,
   "metadata": {
    "colab": {
     "base_uri": "https://localhost:8080/",
     "height": 306
    },
    "colab_type": "code",
    "id": "fY7vHY9mYLvS",
    "outputId": "0af7f7a1-d06e-4b27-b3b7-86c9312d3edb"
   },
   "outputs": [
    {
     "name": "stderr",
     "output_type": "stream",
     "text": [
      "IOPub data rate exceeded.\n",
      "The notebook server will temporarily stop sending output\n",
      "to the client in order to avoid crashing it.\n",
      "To change this limit, set the config variable\n",
      "`--NotebookApp.iopub_data_rate_limit`.\n",
      "\n",
      "Current values:\n",
      "NotebookApp.iopub_data_rate_limit=1000000.0 (bytes/sec)\n",
      "NotebookApp.rate_limit_window=3.0 (secs)\n",
      "\n"
     ]
    },
    {
     "name": "stdout",
     "output_type": "stream",
     "text": [
      "[[   23   883     1 ...     0     0     0]\n",
      " [12734   193   434 ...     0     0     0]\n",
      " [    6    45  2956 ...     0     0     0]\n",
      " ...\n",
      " [    1     2    10 ...     0     0     0]\n",
      " [    6   385  1799 ...     0     0     0]\n",
      " [  621   206   236 ...     0     0     0]]\n"
     ]
    }
   ],
   "source": [
    "encoded_docs_test = t.texts_to_sequences(X_test['cleaned_essay'])\n",
    "print(encoded_docs_test)\n",
    "# pad documents to a max length of 4 words\n",
    "#max_length = 4\n",
    "padded_docs_test = pad_sequences(encoded_docs_test, maxlen=300, padding='post')\n",
    "print(padded_docs_test)\n",
    "# load the whole embedding into memory"
   ]
  },
  {
   "cell_type": "code",
   "execution_count": 0,
   "metadata": {
    "colab": {
     "base_uri": "https://localhost:8080/",
     "height": 187
    },
    "colab_type": "code",
    "id": "23EfVAepYOt4",
    "outputId": "926801b6-0aff-41c0-ea1d-836780f11bb2"
   },
   "outputs": [
    {
     "name": "stderr",
     "output_type": "stream",
     "text": [
      "IOPub data rate exceeded.\n",
      "The notebook server will temporarily stop sending output\n",
      "to the client in order to avoid crashing it.\n",
      "To change this limit, set the config variable\n",
      "`--NotebookApp.iopub_data_rate_limit`.\n",
      "\n",
      "Current values:\n",
      "NotebookApp.iopub_data_rate_limit=1000000.0 (bytes/sec)\n",
      "NotebookApp.rate_limit_window=3.0 (secs)\n",
      "\n"
     ]
    }
   ],
   "source": [
    "encoded_docs_cv = t.texts_to_sequences(X_cv['cleaned_essay'])\n",
    "print(encoded_docs_cv)\n",
    "\n",
    "# pad documents to a max length of 4 words\n",
    "#max_length = 4\n",
    "\n",
    "padded_docs_cv = pad_sequences(encoded_docs_cv, maxlen=300, padding='post')\n",
    "print(padded_docs_cv)\n",
    "\n",
    "# load the whole embedding into memory"
   ]
  },
  {
   "cell_type": "code",
   "execution_count": 0,
   "metadata": {
    "colab": {
     "base_uri": "https://localhost:8080/",
     "height": 343
    },
    "colab_type": "code",
    "id": "v2Pf2saxYSyJ",
    "outputId": "fd25a4b7-c592-448a-fb97-829cc59afc03"
   },
   "outputs": [
    {
     "name": "stdout",
     "output_type": "stream",
     "text": [
      "WARNING:tensorflow:From /usr/local/lib/python3.6/dist-packages/keras/backend/tensorflow_backend.py:541: The name tf.placeholder is deprecated. Please use tf.compat.v1.placeholder instead.\n",
      "\n",
      "WARNING:tensorflow:From /usr/local/lib/python3.6/dist-packages/keras/backend/tensorflow_backend.py:66: The name tf.get_default_graph is deprecated. Please use tf.compat.v1.get_default_graph instead.\n",
      "\n",
      "WARNING:tensorflow:From /usr/local/lib/python3.6/dist-packages/keras/backend/tensorflow_backend.py:4432: The name tf.random_uniform is deprecated. Please use tf.random.uniform instead.\n",
      "\n",
      "WARNING:tensorflow:From /usr/local/lib/python3.6/dist-packages/keras/backend/tensorflow_backend.py:190: The name tf.get_default_session is deprecated. Please use tf.compat.v1.get_default_session instead.\n",
      "\n",
      "WARNING:tensorflow:From /usr/local/lib/python3.6/dist-packages/keras/backend/tensorflow_backend.py:197: The name tf.ConfigProto is deprecated. Please use tf.compat.v1.ConfigProto instead.\n",
      "\n",
      "WARNING:tensorflow:From /usr/local/lib/python3.6/dist-packages/keras/backend/tensorflow_backend.py:203: The name tf.Session is deprecated. Please use tf.compat.v1.Session instead.\n",
      "\n",
      "WARNING:tensorflow:From /usr/local/lib/python3.6/dist-packages/keras/backend/tensorflow_backend.py:207: The name tf.global_variables is deprecated. Please use tf.compat.v1.global_variables instead.\n",
      "\n",
      "WARNING:tensorflow:From /usr/local/lib/python3.6/dist-packages/keras/backend/tensorflow_backend.py:216: The name tf.is_variable_initialized is deprecated. Please use tf.compat.v1.is_variable_initialized instead.\n",
      "\n",
      "WARNING:tensorflow:From /usr/local/lib/python3.6/dist-packages/keras/backend/tensorflow_backend.py:223: The name tf.variables_initializer is deprecated. Please use tf.compat.v1.variables_initializer instead.\n",
      "\n"
     ]
    }
   ],
   "source": [
    "# Headline input: meant to receive sequences of 100 integers, between 1 and 10000.\n",
    "# Note that we can name any layer by passing it a \"name\" argument.\n",
    "Input_Essay = Input(shape=(300,),  name='Input_Essay')\n",
    "\n",
    "# This embedding layer will encode the input sequence\n",
    "# into a sequence of dense 512-dimensional vectors.\n",
    "embedding_essay = Embedding(vocab_size, 300, weights=[embedding_matrix], input_length=300,trainable = False)(Input_Essay)\n",
    "\n",
    "# A LSTM will transform the vector sequence into a single vector,\n",
    "# containing information about the entire sequence\n",
    "\n",
    "#lr= LeakyReLU(alpha = 0.3)(embedding_essay)\n",
    "lstm_out = LSTM(300,return_sequences=True)(embedding_essay)\n",
    "flatten_Essay = Flatten()(lstm_out)"
   ]
  },
  {
   "cell_type": "markdown",
   "metadata": {
    "colab_type": "text",
    "id": "35zCRzE3veUx"
   },
   "source": [
    "#School_State"
   ]
  },
  {
   "cell_type": "code",
   "execution_count": 0,
   "metadata": {
    "colab": {},
    "colab_type": "code",
    "id": "CUebgYvWvZUh"
   },
   "outputs": [],
   "source": [
    "le_school_state = preprocessing.LabelEncoder()\n",
    "Label_encoded_school_state=le_school_state.fit_transform(X_train['school_state'])\n",
    "Label_encoded_school_state_cv=le_school_state.transform(X_cv['school_state'])\n",
    "Label_encoded_school_state_test=le_school_state.transform(X_test['school_state'])"
   ]
  },
  {
   "cell_type": "code",
   "execution_count": 0,
   "metadata": {
    "colab": {},
    "colab_type": "code",
    "id": "agrwkWDnYVYl"
   },
   "outputs": [],
   "source": [
    "padded_docs_school_state=Label_encoded_school_state\n",
    "padded_docs_cv_school_state=Label_encoded_school_state_cv\n",
    "padded_docs_test_school_state=Label_encoded_school_state_test"
   ]
  },
  {
   "cell_type": "code",
   "execution_count": 0,
   "metadata": {
    "colab": {},
    "colab_type": "code",
    "id": "YM7UXuxjYaNX"
   },
   "outputs": [],
   "source": [
    "vocab_size_school_state = le_school_state.classes_\n",
    "vocab_size_school_state_len=len(vocab_size_school_state)"
   ]
  },
  {
   "cell_type": "code",
   "execution_count": 0,
   "metadata": {
    "colab": {},
    "colab_type": "code",
    "id": "2ysBfo8Rvkzu"
   },
   "outputs": [],
   "source": [
    "Input_School_State_1 = Input(shape=(1,),  name='Input_School_State')\n",
    "\n",
    "embedding_school_state_1=Embedding(vocab_size_school_state_len, 32, input_length=1)(Input_School_State_1)\n",
    "flatten_School_State_1 = Flatten()(embedding_school_state_1)"
   ]
  },
  {
   "cell_type": "markdown",
   "metadata": {
    "colab_type": "text",
    "id": "XKX69TdzvtGQ"
   },
   "source": [
    "#teacher_prefix"
   ]
  },
  {
   "cell_type": "code",
   "execution_count": 0,
   "metadata": {
    "colab": {},
    "colab_type": "code",
    "id": "7lXL2uXOvkwM"
   },
   "outputs": [],
   "source": [
    "le_teacher_prefix = preprocessing.LabelEncoder()\n",
    "Label_encoded_teacher_prefix=le_teacher_prefix.fit_transform(X_train['teacher_prefix'])\n",
    "Label_encoded_teacher_prefix_cv=le_teacher_prefix.transform(X_cv['teacher_prefix'])\n",
    "Label_encoded_teacher_prefix_test=le_teacher_prefix.transform(X_test['teacher_prefix'])"
   ]
  },
  {
   "cell_type": "code",
   "execution_count": 0,
   "metadata": {
    "colab": {},
    "colab_type": "code",
    "id": "k5SGST7qvkqT"
   },
   "outputs": [],
   "source": [
    "padded_docs_teacher_prefix=Label_encoded_teacher_prefix\n",
    "padded_docs_cv_teacher_prefix=Label_encoded_teacher_prefix_cv\n",
    "padded_docs_test_teacher_prefix=Label_encoded_teacher_prefix_test"
   ]
  },
  {
   "cell_type": "code",
   "execution_count": 0,
   "metadata": {
    "colab": {},
    "colab_type": "code",
    "id": "4lEuOK4Zv45i"
   },
   "outputs": [],
   "source": [
    "vocab_size_teacher_prefix_len=len(le_teacher_prefix.classes_)"
   ]
  },
  {
   "cell_type": "code",
   "execution_count": 0,
   "metadata": {
    "colab": {},
    "colab_type": "code",
    "id": "dS2w62Lxv40s"
   },
   "outputs": [],
   "source": [
    "Input_teacher_prefix_1 = Input(shape=(1,),  name='Input_teacher_prefix_1')\n",
    "\n",
    "embedding_teacher_prefix_1=Embedding(vocab_size_teacher_prefix_len, 32, input_length=1)(Input_teacher_prefix_1)\n",
    "flatten_teacher_prefix_1 = Flatten()(embedding_teacher_prefix_1)"
   ]
  },
  {
   "cell_type": "markdown",
   "metadata": {
    "colab_type": "text",
    "id": "43-KWYd5v98X"
   },
   "source": [
    "#grade_category"
   ]
  },
  {
   "cell_type": "code",
   "execution_count": 0,
   "metadata": {
    "colab": {},
    "colab_type": "code",
    "id": "v00LLBXkwCPf"
   },
   "outputs": [],
   "source": [
    "le_grade_category = preprocessing.LabelEncoder()\n",
    "Label_encoded_grade_category=le_grade_category.fit_transform(X_train['project_grade_category'])"
   ]
  },
  {
   "cell_type": "code",
   "execution_count": 0,
   "metadata": {
    "colab": {},
    "colab_type": "code",
    "id": "1LIM0caRwFdb"
   },
   "outputs": [],
   "source": [
    "Label_encoded_grade_category_cv=le_grade_category.transform(X_cv['project_grade_category'])"
   ]
  },
  {
   "cell_type": "code",
   "execution_count": 0,
   "metadata": {
    "colab": {},
    "colab_type": "code",
    "id": "0LrEqxyywHOz"
   },
   "outputs": [],
   "source": [
    "Label_encoded_grade_category_test=le_grade_category.transform(X_test['project_grade_category'])\n",
    "vocab_size_grade_category_len=len(le_grade_category.classes_)"
   ]
  },
  {
   "cell_type": "code",
   "execution_count": 0,
   "metadata": {
    "colab": {},
    "colab_type": "code",
    "id": "HjGb6olDwI8l"
   },
   "outputs": [],
   "source": [
    "padded_docs_project_grade_category=Label_encoded_grade_category\n",
    "padded_docs_cv_project_grade_category=Label_encoded_grade_category_cv\n",
    "padded_docs_test_project_grade_category=Label_encoded_grade_category_test"
   ]
  },
  {
   "cell_type": "code",
   "execution_count": 0,
   "metadata": {
    "colab": {},
    "colab_type": "code",
    "id": "LrJaeeDNwLBt"
   },
   "outputs": [],
   "source": [
    "Input_grade_category_1 = Input(shape=(1,),  name='Input_grade_category_1')\n",
    "embedding_grade_category_1=Embedding(vocab_size_grade_category_len, 32, input_length=1)(Input_grade_category_1)\n",
    "flatten_grade_category_1 = Flatten()(embedding_grade_category_1)"
   ]
  },
  {
   "cell_type": "markdown",
   "metadata": {
    "colab_type": "text",
    "id": "2PhcxvD0wNwK"
   },
   "source": [
    "#clean_categories"
   ]
  },
  {
   "cell_type": "code",
   "execution_count": 0,
   "metadata": {
    "colab": {},
    "colab_type": "code",
    "id": "tx26eB_swRhL"
   },
   "outputs": [],
   "source": [
    "le_clean_categories = preprocessing.LabelEncoder()\n",
    "Label_encoded_clean_categories=le_clean_categories.fit_transform(X_train['clean_categories'])"
   ]
  },
  {
   "cell_type": "code",
   "execution_count": 0,
   "metadata": {
    "colab": {},
    "colab_type": "code",
    "id": "j1iH2lgAwVaG"
   },
   "outputs": [],
   "source": [
    "Label_encoded_clean_categories_cv=le_clean_categories.transform(X_cv['clean_categories'])"
   ]
  },
  {
   "cell_type": "code",
   "execution_count": 0,
   "metadata": {
    "colab": {},
    "colab_type": "code",
    "id": "t2hdyGHKwZFj"
   },
   "outputs": [],
   "source": [
    "Label_encoded_clean_categories_test=le_clean_categories.transform(X_test['clean_categories'])"
   ]
  },
  {
   "cell_type": "code",
   "execution_count": 0,
   "metadata": {
    "colab": {},
    "colab_type": "code",
    "id": "PUwk3EBMwbb8"
   },
   "outputs": [],
   "source": [
    "padded_docs_clean_categories=Label_encoded_clean_categories\n",
    "padded_docs_cv_clean_categories=Label_encoded_clean_categories_cv\n",
    "padded_docs_test_clean_categories=Label_encoded_clean_categories_test"
   ]
  },
  {
   "cell_type": "code",
   "execution_count": 0,
   "metadata": {
    "colab": {},
    "colab_type": "code",
    "id": "c6YG0fWUweH0"
   },
   "outputs": [],
   "source": [
    "vocab_size_grade_category_len=len(le_clean_categories.classes_)"
   ]
  },
  {
   "cell_type": "code",
   "execution_count": 0,
   "metadata": {
    "colab": {},
    "colab_type": "code",
    "id": "byn7RBZ2wgI3"
   },
   "outputs": [],
   "source": [
    "Input_clean_categories_1 = Input(shape=(1,),  name='Input_clean_categories_1')\n",
    "\n",
    "embedding_clean_categories_1=Embedding(vocab_size_grade_category_len, 32, input_length=1)(Input_clean_categories_1)\n",
    "flatten_clean_categories_1 = Flatten()(embedding_clean_categories_1)"
   ]
  },
  {
   "cell_type": "markdown",
   "metadata": {
    "colab_type": "text",
    "id": "eeZYSKEnwhkk"
   },
   "source": [
    "#clean_subcategories"
   ]
  },
  {
   "cell_type": "code",
   "execution_count": 0,
   "metadata": {
    "colab": {},
    "colab_type": "code",
    "id": "BqPUQdiKwkQP"
   },
   "outputs": [],
   "source": [
    "clean_subcategories_dict=dict()\n",
    "\n",
    "i=1\n",
    "\n",
    "for sent in X_train['clean_subcategories']:\n",
    "    if sent not in clean_subcategories_dict:\n",
    "        clean_subcategories_dict[sent]=i\n",
    "        i=i+1\n",
    "\n",
    "vocab_size_clean_subcategories=len(clean_subcategories_dict)\n"
   ]
  },
  {
   "cell_type": "code",
   "execution_count": 0,
   "metadata": {
    "colab": {},
    "colab_type": "code",
    "id": "1XMpqTRhwnQB"
   },
   "outputs": [],
   "source": [
    "Label_clean_subcategories=[]\n",
    "for sent in X_train['clean_subcategories']:\n",
    "    try:\n",
    "        Label_clean_subcategories.append(clean_subcategories_dict[sent])\n",
    "      \n",
    "    except:\n",
    "        Label_clean_subcategories.append(0)\n",
    "        \n",
    "padded_docs_clean_subcategories = Label_clean_subcategories   \n",
    "\n",
    "padded_docs_clean_subcategories = np.asarray(padded_docs_clean_subcategories)"
   ]
  },
  {
   "cell_type": "code",
   "execution_count": 0,
   "metadata": {
    "colab": {},
    "colab_type": "code",
    "id": "8IHVpDQvwpN2"
   },
   "outputs": [],
   "source": [
    "#Label_encoded_clean_subcategories_test\n",
    "padded_docs_cv_clean_subcategories=[]\n",
    "Label_encoded_clean_subcategories_cv=[]\n",
    "for sent in X_cv['clean_subcategories']:\n",
    "    try:\n",
    "        Label_encoded_clean_subcategories_cv.append(clean_subcategories_dict[sent])\n",
    "      \n",
    "    except:\n",
    "        Label_encoded_clean_subcategories_cv.append(0)\n",
    "\n",
    "padded_docs_cv_clean_subcategories=Label_encoded_clean_subcategories_cv\n",
    "padded_docs_cv_clean_subcategories = np.asarray(padded_docs_cv_clean_subcategories)"
   ]
  },
  {
   "cell_type": "code",
   "execution_count": 0,
   "metadata": {
    "colab": {},
    "colab_type": "code",
    "id": "n0yfoxcpwrYz"
   },
   "outputs": [],
   "source": [
    "padded_docs_test_clean_subcategories=[]\n",
    "Label_encoded_clean_subcategories_test=[]\n",
    "for sent in X_test['clean_subcategories']:\n",
    "    try:\n",
    "        Label_encoded_clean_subcategories_test.append(clean_subcategories_dict[sent])\n",
    "      \n",
    "    except:\n",
    "        Label_encoded_clean_subcategories_test.append(0)\n",
    "        \n",
    "\n",
    "padded_docs_test_clean_subcategories=Label_encoded_clean_subcategories_test"
   ]
  },
  {
   "cell_type": "code",
   "execution_count": 0,
   "metadata": {
    "colab": {},
    "colab_type": "code",
    "id": "MH61WoLOwvZG"
   },
   "outputs": [],
   "source": [
    "#padded_docs_clean_subcategories = np.asarray(padded_docs_clean_subcategories)\n",
    "padded_docs_test_clean_subcategories=np.asarray(padded_docs_test_clean_subcategories)"
   ]
  },
  {
   "cell_type": "code",
   "execution_count": 0,
   "metadata": {
    "colab": {},
    "colab_type": "code",
    "id": "krsD1OzzwviW"
   },
   "outputs": [],
   "source": [
    "Input_clean_subcategories_1 = Input(shape=(1,), name='Input_clean_subcategories_1')\n",
    "  \n",
    "embedding_clean_subcategories_1=Embedding(vocab_size_clean_subcategories, 28, input_length=1)(Input_clean_subcategories_1)\n",
    "flatten_clean_subcategories_1 = Flatten()(embedding_clean_subcategories_1)"
   ]
  },
  {
   "cell_type": "markdown",
   "metadata": {
    "colab_type": "text",
    "id": "vg7BEi9SxAFc"
   },
   "source": [
    "#teacher_number_of_previously_posted_projects"
   ]
  },
  {
   "cell_type": "code",
   "execution_count": 0,
   "metadata": {
    "colab": {},
    "colab_type": "code",
    "id": "mr6dlVFVw6Bu"
   },
   "outputs": [],
   "source": [
    "rem_input_train = np.concatenate((X_train['price'].values.reshape(-1,1),X_train['teacher_number_of_previously_posted_projects'].values.reshape(-1,1)), axis=1)\n",
    "rem_input_cv =    np.concatenate((X_cv['price'].values.reshape(-1,1),X_cv['teacher_number_of_previously_posted_projects'].values.reshape(-1,1)), axis=1)\n",
    "rem_input_test = np.concatenate((X_test['price'].values.reshape(-1,1),X_test['teacher_number_of_previously_posted_projects'].values.reshape(-1,1)), axis=1)"
   ]
  },
  {
   "cell_type": "code",
   "execution_count": 0,
   "metadata": {
    "colab": {},
    "colab_type": "code",
    "id": "Yocuyy2ExD9N"
   },
   "outputs": [],
   "source": [
    "#from sklearn.preprocessing import StandardScalar\n",
    "mms = StandardScaler().fit(rem_input_train)\n",
    "rem_input_train_norm = mms.transform(rem_input_train)\n",
    "rem_input_cv_norm = mms.transform(rem_input_cv)\n",
    "rem_input_test_norm = mms.transform(rem_input_test)"
   ]
  },
  {
   "cell_type": "code",
   "execution_count": 0,
   "metadata": {
    "colab": {},
    "colab_type": "code",
    "id": "XQx5d4NBxHTA"
   },
   "outputs": [],
   "source": [
    "remaining_input = Input(shape=(2,), name='remaining_input')\n",
    "dense_1 = Dense(1, activation='relu',kernel_initializer=\"uniform\")(remaining_input)"
   ]
  },
  {
   "cell_type": "code",
   "execution_count": 0,
   "metadata": {
    "colab": {},
    "colab_type": "code",
    "id": "bDa9230KxLu1"
   },
   "outputs": [],
   "source": [
    "def auc(y_true,y_pred):\n",
    "    return tf.py_func(roc_auc_score, (y_true, y_pred), tf.double)"
   ]
  },
  {
   "cell_type": "code",
   "execution_count": 0,
   "metadata": {
    "colab": {},
    "colab_type": "code",
    "id": "S6-8z5TPxWrU"
   },
   "outputs": [],
   "source": [
    "x = Concatenate()([flatten_Essay, flatten_School_State_1,flatten_teacher_prefix_1,flatten_grade_category_1,flatten_clean_categories_1,flatten_clean_subcategories_1,dense_1])"
   ]
  },
  {
   "cell_type": "code",
   "execution_count": 0,
   "metadata": {
    "colab": {
     "base_uri": "https://localhost:8080/",
     "height": 156
    },
    "colab_type": "code",
    "id": "IW6t6t3KxcBT",
    "outputId": "f04f30d2-a753-4adc-c197-23b53738e585"
   },
   "outputs": [
    {
     "name": "stdout",
     "output_type": "stream",
     "text": [
      "WARNING:tensorflow:From /usr/local/lib/python3.6/dist-packages/keras/backend/tensorflow_backend.py:4479: The name tf.truncated_normal is deprecated. Please use tf.random.truncated_normal instead.\n",
      "\n",
      "WARNING:tensorflow:From /usr/local/lib/python3.6/dist-packages/keras/backend/tensorflow_backend.py:148: The name tf.placeholder_with_default is deprecated. Please use tf.compat.v1.placeholder_with_default instead.\n",
      "\n",
      "WARNING:tensorflow:From /usr/local/lib/python3.6/dist-packages/keras/backend/tensorflow_backend.py:3733: calling dropout (from tensorflow.python.ops.nn_ops) with keep_prob is deprecated and will be removed in a future version.\n",
      "Instructions for updating:\n",
      "Please use `rate` instead of `keep_prob`. Rate should be set to `rate = 1 - keep_prob`.\n"
     ]
    }
   ],
   "source": [
    "x = Dense(128, activation='relu',kernel_initializer=\"he_normal\",kernel_regularizer=regularizers.l2(0.001))(x)\n",
    "x=  Dropout(0.5)(x)\n",
    "\n",
    "\n",
    "x = Dense(64, activation='relu',kernel_initializer=\"he_normal\",kernel_regularizer=regularizers.l2(0.001))(x)\n",
    "x=  Dropout(0.5)(x)\n",
    "x = BatchNormalization()(x)\n",
    "\n",
    "x = Dense(64, activation='relu',kernel_initializer=\"he_normal\",kernel_regularizer=regularizers.l2(0.001))(x)\n",
    "x=  Dropout(0.5)(x)\n",
    "\n",
    "main_output = Dense(1, activation='sigmoid', name='main_output')(x)"
   ]
  },
  {
   "cell_type": "code",
   "execution_count": 0,
   "metadata": {
    "colab": {
     "base_uri": "https://localhost:8080/",
     "height": 377
    },
    "colab_type": "code",
    "id": "NPfvSHxZxgv3",
    "outputId": "6ef91dff-f63f-41ec-ee91-f5fe01a09325"
   },
   "outputs": [
    {
     "name": "stdout",
     "output_type": "stream",
     "text": [
      "WARNING:tensorflow:From /usr/local/lib/python3.6/dist-packages/keras/optimizers.py:793: The name tf.train.Optimizer is deprecated. Please use tf.compat.v1.train.Optimizer instead.\n",
      "\n",
      "WARNING:tensorflow:From /usr/local/lib/python3.6/dist-packages/keras/backend/tensorflow_backend.py:3657: The name tf.log is deprecated. Please use tf.math.log instead.\n",
      "\n",
      "WARNING:tensorflow:From /usr/local/lib/python3.6/dist-packages/tensorflow_core/python/ops/nn_impl.py:183: where (from tensorflow.python.ops.array_ops) is deprecated and will be removed in a future version.\n",
      "Instructions for updating:\n",
      "Use tf.where in 2.0, which has the same broadcast rule as np.where\n",
      "WARNING:tensorflow:From <ipython-input-51-1ce08cb8f48c>:2: py_func (from tensorflow.python.ops.script_ops) is deprecated and will be removed in a future version.\n",
      "Instructions for updating:\n",
      "tf.py_func is deprecated in TF V2. Instead, there are two\n",
      "    options available in V2.\n",
      "    - tf.py_function takes a python function which manipulates tf eager\n",
      "    tensors instead of numpy arrays. It's easy to convert a tf eager tensor to\n",
      "    an ndarray (just call tensor.numpy()) but having access to eager tensors\n",
      "    means `tf.py_function`s can use accelerators such as GPUs as well as\n",
      "    being differentiable using a gradient tape.\n",
      "    - tf.numpy_function maintains the semantics of the deprecated tf.py_func\n",
      "    (it is not differentiable, and manipulates numpy arrays). It drops the\n",
      "    stateful argument making all functions stateful.\n",
      "    \n"
     ]
    }
   ],
   "source": [
    "learning_rate = 0.001\n",
    "decay_rate = learning_rate / 10\n",
    "#optimizers.Adam,optimizers.Nadam,optimizers.RMSprop\n",
    "#from keras.optimizers import Adam\n",
    "model2 = Model(inputs=[Input_Essay,Input_School_State_1,Input_teacher_prefix_1,Input_grade_category_1,Input_clean_categories_1,Input_clean_subcategories_1,remaining_input], outputs=[main_output])\n",
    "#adam = optimizers.Adam(lr=0.001, beta_1=0.9, beta_2=0.999, amsgrad=False)\n",
    "#lr=0.01,\n",
    "#decay=decay_rate\n",
    "adam = optimizers.Adam(lr=0.001)\n",
    "model2.compile(loss=\"binary_crossentropy\", optimizer=adam, metrics=[auc])"
   ]
  },
  {
   "cell_type": "code",
   "execution_count": 0,
   "metadata": {
    "colab": {
     "base_uri": "https://localhost:8080/",
     "height": 1000
    },
    "colab_type": "code",
    "id": "fpYz8_0Rqckw",
    "outputId": "8a755770-1b13-49ad-c8e2-5e9904ea0dc8"
   },
   "outputs": [
    {
     "name": "stdout",
     "output_type": "stream",
     "text": [
      "Model: \"model_1\"\n",
      "__________________________________________________________________________________________________\n",
      "Layer (type)                    Output Shape         Param #     Connected to                     \n",
      "==================================================================================================\n",
      "Input_Essay (InputLayer)        (None, 300)          0                                            \n",
      "__________________________________________________________________________________________________\n",
      "embedding_1 (Embedding)         (None, 300, 300)     8628900     Input_Essay[0][0]                \n",
      "__________________________________________________________________________________________________\n",
      "Input_School_State (InputLayer) (None, 1)            0                                            \n",
      "__________________________________________________________________________________________________\n",
      "Input_teacher_prefix_1 (InputLa (None, 1)            0                                            \n",
      "__________________________________________________________________________________________________\n",
      "Input_grade_category_1 (InputLa (None, 1)            0                                            \n",
      "__________________________________________________________________________________________________\n",
      "Input_clean_categories_1 (Input (None, 1)            0                                            \n",
      "__________________________________________________________________________________________________\n",
      "Input_clean_subcategories_1 (In (None, 1)            0                                            \n",
      "__________________________________________________________________________________________________\n",
      "lstm_1 (LSTM)                   (None, 300, 300)     721200      embedding_1[0][0]                \n",
      "__________________________________________________________________________________________________\n",
      "embedding_2 (Embedding)         (None, 1, 32)        1632        Input_School_State[0][0]         \n",
      "__________________________________________________________________________________________________\n",
      "embedding_3 (Embedding)         (None, 1, 32)        160         Input_teacher_prefix_1[0][0]     \n",
      "__________________________________________________________________________________________________\n",
      "embedding_4 (Embedding)         (None, 1, 32)        128         Input_grade_category_1[0][0]     \n",
      "__________________________________________________________________________________________________\n",
      "embedding_5 (Embedding)         (None, 1, 32)        1632        Input_clean_categories_1[0][0]   \n",
      "__________________________________________________________________________________________________\n",
      "embedding_6 (Embedding)         (None, 1, 28)        10864       Input_clean_subcategories_1[0][0]\n",
      "__________________________________________________________________________________________________\n",
      "remaining_input (InputLayer)    (None, 2)            0                                            \n",
      "__________________________________________________________________________________________________\n",
      "flatten_1 (Flatten)             (None, 90000)        0           lstm_1[0][0]                     \n",
      "__________________________________________________________________________________________________\n",
      "flatten_2 (Flatten)             (None, 32)           0           embedding_2[0][0]                \n",
      "__________________________________________________________________________________________________\n",
      "flatten_3 (Flatten)             (None, 32)           0           embedding_3[0][0]                \n",
      "__________________________________________________________________________________________________\n",
      "flatten_4 (Flatten)             (None, 32)           0           embedding_4[0][0]                \n",
      "__________________________________________________________________________________________________\n",
      "flatten_5 (Flatten)             (None, 32)           0           embedding_5[0][0]                \n",
      "__________________________________________________________________________________________________\n",
      "flatten_6 (Flatten)             (None, 28)           0           embedding_6[0][0]                \n",
      "__________________________________________________________________________________________________\n",
      "dense_1 (Dense)                 (None, 1)            3           remaining_input[0][0]            \n",
      "__________________________________________________________________________________________________\n",
      "concatenate_1 (Concatenate)     (None, 90157)        0           flatten_1[0][0]                  \n",
      "                                                                 flatten_2[0][0]                  \n",
      "                                                                 flatten_3[0][0]                  \n",
      "                                                                 flatten_4[0][0]                  \n",
      "                                                                 flatten_5[0][0]                  \n",
      "                                                                 flatten_6[0][0]                  \n",
      "                                                                 dense_1[0][0]                    \n",
      "__________________________________________________________________________________________________\n",
      "dense_2 (Dense)                 (None, 128)          11540224    concatenate_1[0][0]              \n",
      "__________________________________________________________________________________________________\n",
      "dropout_1 (Dropout)             (None, 128)          0           dense_2[0][0]                    \n",
      "__________________________________________________________________________________________________\n",
      "dense_3 (Dense)                 (None, 64)           8256        dropout_1[0][0]                  \n",
      "__________________________________________________________________________________________________\n",
      "dropout_2 (Dropout)             (None, 64)           0           dense_3[0][0]                    \n",
      "__________________________________________________________________________________________________\n",
      "batch_normalization_1 (BatchNor (None, 64)           256         dropout_2[0][0]                  \n",
      "__________________________________________________________________________________________________\n",
      "dense_4 (Dense)                 (None, 64)           4160        batch_normalization_1[0][0]      \n",
      "__________________________________________________________________________________________________\n",
      "dropout_3 (Dropout)             (None, 64)           0           dense_4[0][0]                    \n",
      "__________________________________________________________________________________________________\n",
      "main_output (Dense)             (None, 1)            65          dropout_3[0][0]                  \n",
      "==================================================================================================\n",
      "Total params: 20,917,480\n",
      "Trainable params: 12,288,452\n",
      "Non-trainable params: 8,629,028\n",
      "__________________________________________________________________________________________________\n"
     ]
    }
   ],
   "source": [
    "model2.summary()"
   ]
  },
  {
   "cell_type": "code",
   "execution_count": 0,
   "metadata": {
    "colab": {
     "base_uri": "https://localhost:8080/",
     "height": 632
    },
    "colab_type": "code",
    "id": "Y1PnsZ3oxktj",
    "outputId": "dd61fcaf-5961-4bc3-a0a3-0ebe61f71e71"
   },
   "outputs": [
    {
     "name": "stdout",
     "output_type": "stream",
     "text": [
      "WARNING:tensorflow:From /usr/local/lib/python3.6/dist-packages/keras/backend/tensorflow_backend.py:1033: The name tf.assign_add is deprecated. Please use tf.compat.v1.assign_add instead.\n",
      "\n",
      "WARNING:tensorflow:From /usr/local/lib/python3.6/dist-packages/keras/backend/tensorflow_backend.py:1020: The name tf.assign is deprecated. Please use tf.compat.v1.assign instead.\n",
      "\n",
      "Train on 69918 samples, validate on 17480 samples\n",
      "Epoch 1/15\n",
      "69918/69918 [==============================] - 40s 579us/step - loss: 0.9948 - auc: 0.5369 - val_loss: 0.8197 - val_auc: 0.4808\n",
      "Epoch 2/15\n",
      "69918/69918 [==============================] - 38s 546us/step - loss: 0.7457 - auc: 0.5908 - val_loss: 0.6712 - val_auc: 0.6167\n",
      "Epoch 3/15\n",
      "69918/69918 [==============================] - 38s 546us/step - loss: 0.6384 - auc: 0.6220 - val_loss: 0.6287 - val_auc: 0.6742\n",
      "Epoch 4/15\n",
      "69918/69918 [==============================] - 38s 544us/step - loss: 0.5784 - auc: 0.6494 - val_loss: 0.5695 - val_auc: 0.6773\n",
      "Epoch 5/15\n",
      "69918/69918 [==============================] - 38s 545us/step - loss: 0.5448 - auc: 0.6697 - val_loss: 0.5647 - val_auc: 0.6998\n",
      "Epoch 6/15\n",
      "69918/69918 [==============================] - 38s 545us/step - loss: 0.5183 - auc: 0.6833 - val_loss: 0.5344 - val_auc: 0.7015\n",
      "Epoch 7/15\n",
      "69918/69918 [==============================] - 38s 545us/step - loss: 0.4930 - auc: 0.6953 - val_loss: 0.5035 - val_auc: 0.7112\n",
      "Epoch 8/15\n",
      "69918/69918 [==============================] - 38s 544us/step - loss: 0.4771 - auc: 0.7115 - val_loss: 0.4944 - val_auc: 0.7178\n",
      "Epoch 9/15\n",
      "69918/69918 [==============================] - 38s 544us/step - loss: 0.4684 - auc: 0.7183 - val_loss: 0.4790 - val_auc: 0.7231\n",
      "Epoch 10/15\n",
      "69918/69918 [==============================] - 38s 544us/step - loss: 0.4608 - auc: 0.7310 - val_loss: 0.4705 - val_auc: 0.7236\n",
      "Epoch 11/15\n",
      "69918/69918 [==============================] - 38s 542us/step - loss: 0.4497 - auc: 0.7435 - val_loss: 0.4616 - val_auc: 0.7261\n",
      "Epoch 12/15\n",
      "69918/69918 [==============================] - 38s 544us/step - loss: 0.4456 - auc: 0.7516 - val_loss: 0.4605 - val_auc: 0.7229\n",
      "Epoch 13/15\n",
      "69918/69918 [==============================] - 38s 543us/step - loss: 0.4364 - auc: 0.7654 - val_loss: 0.4695 - val_auc: 0.7246\n",
      "Epoch 14/15\n",
      "69918/69918 [==============================] - 38s 547us/step - loss: 0.4342 - auc: 0.7807 - val_loss: 0.4593 - val_auc: 0.7279\n",
      "Epoch 15/15\n",
      "69918/69918 [==============================] - 38s 547us/step - loss: 0.4203 - auc: 0.7990 - val_loss: 0.4771 - val_auc: 0.7183\n"
     ]
    }
   ],
   "source": [
    "model_2=model2.fit([padded_docs, padded_docs_school_state,padded_docs_teacher_prefix,padded_docs_project_grade_category,padded_docs_clean_categories,padded_docs_clean_subcategories,rem_input_train_norm],Y_train,epochs=15 ,batch_size=1002,validation_data=([padded_docs_cv,padded_docs_cv_school_state,padded_docs_cv_teacher_prefix,padded_docs_cv_project_grade_category,padded_docs_cv_clean_categories,padded_docs_cv_clean_subcategories,rem_input_cv_norm], Y_cv))"
   ]
  },
  {
   "cell_type": "code",
   "execution_count": 0,
   "metadata": {
    "colab": {},
    "colab_type": "code",
    "id": "5vI_m624xoSb"
   },
   "outputs": [],
   "source": [
    "model2_history=model2.predict([padded_docs_test,padded_docs_test_school_state,padded_docs_test_teacher_prefix,padded_docs_test_project_grade_category,padded_docs_test_clean_categories,padded_docs_test_clean_subcategories,rem_input_test_norm])"
   ]
  },
  {
   "cell_type": "code",
   "execution_count": 0,
   "metadata": {
    "colab": {
     "base_uri": "https://localhost:8080/",
     "height": 365
    },
    "colab_type": "code",
    "id": "bE2WSYnSw2kH",
    "outputId": "33b32a45-65e2-4036-94de-1de6cc74ce80"
   },
   "outputs": [
    {
     "data": {
      "image/png": "[encoded data removed]",
      "text/plain": [
       "<Figure size 1080x360 with 1 Axes>"
      ]
     },
     "metadata": {
      "tags": []
     },
     "output_type": "display_data"
    }
   ],
   "source": [
    "x = list(range(15))\n",
    "vy = model_2.history['auc']\n",
    "ty = model_2.history['val_auc']\n",
    "plt.figure(figsize=(15,5))\n",
    "plt.plot(x, ty, 'b', label=\"Validation AUC\")\n",
    "plt.plot(x, vy, 'r', label=\"Train AUC\")\n",
    "plt.xlabel('Epochs') \n",
    "plt.ylabel('AUC')\n",
    "plt.title('\\nTrain and validation AUC VS Epochs')\n",
    "plt.legend()\n",
    "plt.grid()\n",
    "plt.show()"
   ]
  },
  {
   "cell_type": "code",
   "execution_count": 0,
   "metadata": {
    "colab": {
     "base_uri": "https://localhost:8080/",
     "height": 365
    },
    "colab_type": "code",
    "id": "wbHcW8bjw4-Z",
    "outputId": "c97b1ba7-5667-4809-8f8e-196a961f3740"
   },
   "outputs": [
    {
     "data": {
      "image/png": "[encoded data removed]",
      "text/plain": [
       "<Figure size 1080x360 with 1 Axes>"
      ]
     },
     "metadata": {
      "tags": []
     },
     "output_type": "display_data"
    }
   ],
   "source": [
    "import matplotlib.pyplot as plt\n",
    "\n",
    "x = list(range(15))\n",
    "vy = model_2.history['loss']\n",
    "ty = model_2.history['val_loss']\n",
    "plt.figure(figsize=(15,5))\n",
    "plt.plot(x, ty, 'b', label=\"Validation Loss\")\n",
    "plt.plot(x, vy, 'r', label=\"Train LOSS\")\n",
    "plt.xlabel('Epochs') \n",
    "plt.ylabel('Binary cross entropy loss')\n",
    "plt.title('\\nBinary cross entropy loss VS Epochs')\n",
    "plt.legend()\n",
    "plt.grid()\n",
    "plt.show()"
   ]
  },
  {
   "cell_type": "code",
   "execution_count": 0,
   "metadata": {
    "colab": {
     "base_uri": "https://localhost:8080/",
     "height": 265
    },
    "colab_type": "code",
    "id": "kjmXJxknIcgN",
    "outputId": "66fcd6cf-cbb6-4446-bfea-dc8fc0ae8be5"
   },
   "outputs": [
    {
     "data": {
      "image/png": "[encoded data removed]",
      "text/plain": [
       "<Figure size 432x288 with 1 Axes>"
      ]
     },
     "metadata": {
      "tags": []
     },
     "output_type": "display_data"
    }
   ],
   "source": [
    "from sklearn.metrics import roc_curve\n",
    "from sklearn.metrics import roc_auc_score\n",
    "fpr, tpr, _ = roc_curve(Y_test,  model2_history)\n",
    "auc = roc_auc_score(Y_test, model2_history)\n",
    "plt.plot(fpr,tpr,label=\"data 1, auc=\"+str(auc))\n",
    "plt.legend(loc=4)\n",
    "#plt.xlabel('Epochs') \n",
    "plt.ylabel('Test AUC')\n",
    "plt.show()"
   ]
  }
 ],
 "metadata": {
  "accelerator": "GPU",
  "colab": {
   "collapsed_sections": [],
   "name": "DONORS_LSTM_Model2.ipynb",
   "provenance": []
  },
  "kernelspec": {
   "display_name": "Python 3",
   "language": "python",
   "name": "python3"
  },
  "language_info": {
   "codemirror_mode": {
    "name": "ipython",
    "version": 3
   },
   "file_extension": ".py",
   "mimetype": "text/x-python",
   "name": "python",
   "nbconvert_exporter": "python",
   "pygments_lexer": "ipython3",
   "version": "3.6.4"
  }
 },
 "nbformat": 4,
 "nbformat_minor": 1
}
