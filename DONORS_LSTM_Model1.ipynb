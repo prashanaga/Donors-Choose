{
 "cells": [
  {
   "cell_type": "markdown",
   "metadata": {
    "colab_type": "text",
    "id": "MYULvZidBVht"
   },
   "source": [
    "DonorsChoose"
   ]
  },
  {
   "cell_type": "markdown",
   "metadata": {
    "colab_type": "text",
    "id": "l3ox9xdzHWGL"
   },
   "source": [
    "DonorsChoose.org receives hundreds of thousands of project proposals each year for classroom projects in need of funding. Right now, a large number of volunteers is needed to manually screen each submission before it's approved to be posted on the DonorsChoose.org website.\n",
    "\n",
    "Next year, DonorsChoose.org expects to receive close to 500,000 project proposals. As a result, there are three main problems they need to solve:\n",
    "\n",
    "How to scale current manual processes and resources to screen 500,000 projects so that they can be posted as quickly and as efficiently as possible\n",
    "How to increase the consistency of project vetting across different volunteers to improve the experience for teachers\n",
    "How to focus volunteer time on the applications that need the most assistance\n",
    "The goal of the competition is to predict whether or not a DonorsChoose.org project proposal submitted by a teacher will be approved, using the text of project descriptions as well as additional metadata about the project, teacher, and school. DonorsChoose.org can then use this information to identify projects most likely to need further review before approval."
   ]
  },
  {
   "cell_type": "markdown",
   "metadata": {
    "colab_type": "text",
    "id": "_FMOQNZmHhcr"
   },
   "source": []
  },
  {
   "cell_type": "markdown",
   "metadata": {
    "colab_type": "text",
    "id": "Mlt81SxWqyYc"
   },
   "source": [
    "## About the DonorsChoose Data Set\n",
    "\n",
    "The `train.csv` data set provided by DonorsChoose contains the following features:\n",
    "\n",
    "Feature | Description \n",
    "----------|---------------\n",
    "**`project_id`** | A unique identifier for the proposed project. **Example:** `p036502`   \n",
    "**`project_title`**    | Title of the project. **Examples:**<br><ul><li><code>Art Will Make You Happy!</code></li><li><code>First Grade Fun</code></li></ul> \n",
    "**`project_grade_category`** | Grade level of students for which the project is targeted. One of the following enumerated values: <br/><ul><li><code>Grades PreK-2</code></li><li><code>Grades 3-5</code></li><li><code>Grades 6-8</code></li><li><code>Grades 9-12</code></li></ul>  \n",
    " **`project_subject_categories`** | One or more (comma-separated) subject categories for the project from the following enumerated list of values:  <br/><ul><li><code>Applied Learning</code></li><li><code>Care &amp; Hunger</code></li><li><code>Health &amp; Sports</code></li><li><code>History &amp; Civics</code></li><li><code>Literacy &amp; Language</code></li><li><code>Math &amp; Science</code></li><li><code>Music &amp; The Arts</code></li><li><code>Special Needs</code></li><li><code>Warmth</code></li></ul><br/> **Examples:** <br/><ul><li><code>Music &amp; The Arts</code></li><li><code>Literacy &amp; Language, Math &amp; Science</code></li>  \n",
    "  **`school_state`** | State where school is located ([Two-letter U.S. postal code](https://en.wikipedia.org/wiki/List_of_U.S._state_abbreviations#Postal_codes)). **Example:** `WY`\n",
    "**`project_subject_subcategories`** | One or more (comma-separated) subject subcategories for the project. **Examples:** <br/><ul><li><code>Literacy</code></li><li><code>Literature &amp; Writing, Social Sciences</code></li></ul> \n",
    "**`project_resource_summary`** | An explanation of the resources needed for the project. **Example:** <br/><ul><li><code>My students need hands on literacy materials to manage sensory needs!</code</li></ul> \n",
    "**`project_essay_1`**    | First application essay<sup>*</sup>  \n",
    "**`project_essay_2`**    | Second application essay<sup>*</sup> \n",
    "**`project_essay_3`**    | Third application essay<sup>*</sup> \n",
    "**`project_essay_4`**    | Fourth application essay<sup>*</sup> \n",
    "**`project_submitted_datetime`** | Datetime when project application was submitted. **Example:** `2016-04-28 12:43:56.245`   \n",
    "**`teacher_id`** | A unique identifier for the teacher of the proposed project. **Example:** `bdf8baa8fedef6bfeec7ae4ff1c15c56`  \n",
    "**`teacher_prefix`** | Teacher's title. One of the following enumerated values: <br/><ul><li><code>nan</code></li><li><code>Dr.</code></li><li><code>Mr.</code></li><li><code>Mrs.</code></li><li><code>Ms.</code></li><li><code>Teacher.</code></li></ul>  \n",
    "**`teacher_number_of_previously_posted_projects`** | Number of project applications previously submitted by the same teacher. **Example:** `2` \n",
    "\n",
    "<sup>*</sup> See the section <b>Notes on the Essay Data</b> for more details about these features.\n",
    "\n",
    "Additionally, the `resources.csv` data set provides more data about the resources required for each project. Each line in this file represents a resource required by a project:\n",
    "\n",
    "Feature | Description \n",
    "----------|---------------\n",
    "**`id`** | A `project_id` value from the `train.csv` file.  **Example:** `p036502`   \n",
    "**`description`** | Desciption of the resource. **Example:** `Tenor Saxophone Reeds, Box of 25`   \n",
    "**`quantity`** | Quantity of the resource required. **Example:** `3`   \n",
    "**`price`** | Price of the resource required. **Example:** `9.95`   \n",
    "\n",
    "**Note:** Many projects require multiple resources. The `id` value corresponds to a `project_id` in train.csv, so you use it as a key to retrieve all resources needed for a project:\n",
    "\n",
    "The data set contains the following label (the value you will attempt to predict):\n",
    "\n",
    "Label | Description\n",
    "----------|---------------\n",
    "`project_is_approved` | A binary flag indicating whether DonorsChoose approved the project. A value of `0` indicates the project was not approved, and a value of `1` indicates the project was approved."
   ]
  },
  {
   "cell_type": "markdown",
   "metadata": {
    "colab_type": "text",
    "id": "1kcXbipGH4YX"
   },
   "source": []
  },
  {
   "cell_type": "markdown",
   "metadata": {
    "colab_type": "text",
    "id": "UzRqFoJCqyYo"
   },
   "source": [
    "### Notes on the Essay Data\n",
    "\n",
    "<ul>\n",
    "Prior to May 17, 2016, the prompts for the essays were as follows:\n",
    "<li>__project_essay_1:__ \"Introduce us to your classroom\"</li>\n",
    "<li>__project_essay_2:__ \"Tell us more about your students\"</li>\n",
    "<li>__project_essay_3:__ \"Describe how your students will use the materials you're requesting\"</li>\n",
    "<li>__project_essay_3:__ \"Close by sharing why your project will make a difference\"</li>\n",
    "</ul>\n",
    "\n",
    "\n",
    "<ul>\n",
    "Starting on May 17, 2016, the number of essays was reduced from 4 to 2, and the prompts for the first 2 essays were changed to the following:<br>\n",
    "<li>__project_essay_1:__ \"Describe your students: What makes your students special? Specific details about their background, your neighborhood, and your school are all helpful.\"</li>\n",
    "<li>__project_essay_2:__ \"About your project: How will these materials make a difference in your students' learning and improve their school lives?\"</li>\n",
    "<br>For all projects with project_submitted_datetime of 2016-05-17 and later, the values of project_essay_3 and project_essay_4 will be NaN.\n",
    "</ul>\n"
   ]
  },
  {
   "cell_type": "markdown",
   "metadata": {
    "colab_type": "text",
    "id": "wrz40rOKDZRX"
   },
   "source": [
    "<img src='https://i.imgur.com/w395Yk9.png'>\n",
    "ref: https://i.imgur.com/w395Yk9.png"
   ]
  },
  {
   "cell_type": "code",
   "execution_count": 0,
   "metadata": {
    "colab": {
     "base_uri": "https://localhost:8080/",
     "height": 97
    },
    "colab_type": "code",
    "id": "BOSCCOVt0KEG",
    "outputId": "04ae7997-9ad6-4658-97e7-b0f44dd9bb92"
   },
   "outputs": [
    {
     "name": "stderr",
     "output_type": "stream",
     "text": [
      "Using TensorFlow backend.\n"
     ]
    },
    {
     "data": {
      "text/html": [
       "<p style=\"color: red;\">\n",
       "The default version of TensorFlow in Colab will soon switch to TensorFlow 2.x.<br>\n",
       "We recommend you <a href=\"https://www.tensorflow.org/guide/migrate\" target=\"_blank\">upgrade</a> now \n",
       "or ensure your notebook will continue to use TensorFlow 1.x via the <code>%tensorflow_version 1.x</code> magic:\n",
       "<a href=\"https://colab.research.google.com/notebooks/tensorflow_version.ipynb\" target=\"_blank\">more info</a>.</p>\n"
      ],
      "text/plain": [
       "<IPython.core.display.HTML object>"
      ]
     },
     "metadata": {
      "tags": []
     },
     "output_type": "display_data"
    }
   ],
   "source": [
    "import numpy\n",
    "from keras.datasets import imdb\n",
    "from keras.models import Sequential\n",
    "from keras.layers import Dense\n",
    "from keras.layers import LSTM\n",
    "from keras.layers.embeddings import Embedding\n",
    "from keras.preprocessing import sequence\n",
    "import pandas as pd\n",
    "from keras.layers import Input, Embedding, LSTM, Dense,Concatenate,Dropout\n",
    "from keras.models import Model\n",
    "import tensorflow as tf\n",
    "from keras.layers import Input, Embedding, LSTM, Dense,Flatten\n",
    "from keras.models import Model\n",
    "import numpy as np\n",
    "from sklearn.preprocessing import StandardScaler\n",
    "from numpy import asarray\n",
    "from numpy import zeros\n",
    "from keras.layers.normalization import BatchNormalization\n",
    "from keras.layers import Activation\n",
    "from keras import regularizers\n",
    "from keras import optimizers\n",
    "from keras.optimizers import SGD\n",
    "from google.colab import drive\n",
    "from zipfile import ZipFile\n",
    "from keras.preprocessing.text import Tokenizer\n",
    "from keras.preprocessing.sequence import pad_sequences\n",
    "from sklearn.model_selection import train_test_split\n",
    "import pickle\n",
    "from keras.layers import LeakyReLU\n",
    "from sklearn import preprocessing\n",
    "from keras.layers.normalization import BatchNormalization\n",
    "from keras.layers import Activation\n",
    "from keras import regularizers\n",
    "from keras.optimizers import SGD\n",
    "import matplotlib.pyplot as plt\n",
    "from sklearn.metrics import roc_auc_score"
   ]
  },
  {
   "cell_type": "code",
   "execution_count": 0,
   "metadata": {
    "colab": {
     "base_uri": "https://localhost:8080/",
     "height": 54
    },
    "colab_type": "code",
    "id": "Ki3wy_-701NS",
    "outputId": "18ec4c47-499a-4edd-c6e3-61e48ae89e5d"
   },
   "outputs": [
    {
     "name": "stdout",
     "output_type": "stream",
     "text": [
      "Drive already mounted at /content/drive; to attempt to forcibly remount, call drive.mount(\"/content/drive\", force_remount=True).\n"
     ]
    }
   ],
   "source": [
    "drive.mount('/content/drive')"
   ]
  },
  {
   "cell_type": "code",
   "execution_count": 0,
   "metadata": {
    "colab": {},
    "colab_type": "code",
    "id": "a6LHMjzh04O9"
   },
   "outputs": [],
   "source": [
    "#archive  = ZipFile('/content/drive/My Drive/Assignments_DonorsChoose_2018/glove.42B.300d.zip', 'r')\n",
    "#data= archive.open('glove.42B.300d.txt','r')"
   ]
  },
  {
   "cell_type": "code",
   "execution_count": 0,
   "metadata": {
    "colab": {},
    "colab_type": "code",
    "id": "5tEr6M9Ekyqe"
   },
   "outputs": [],
   "source": [
    "#data = open('/content/drive/My Drive/glove_vectors2.txt', 'r')"
   ]
  },
  {
   "cell_type": "code",
   "execution_count": 0,
   "metadata": {
    "colab": {},
    "colab_type": "code",
    "id": "yIO8U-3j06Wu"
   },
   "outputs": [],
   "source": [
    "project_data=pd.read_csv(\"/content/drive/My Drive/Assignments_DonorsChoose_2018/preprocessed_data.csv\")"
   ]
  },
  {
   "cell_type": "code",
   "execution_count": 0,
   "metadata": {
    "colab": {
     "base_uri": "https://localhost:8080/",
     "height": 284
    },
    "colab_type": "code",
    "id": "wKXqkHWBZ0oN",
    "outputId": "d96e6240-c4d9-4d2b-95be-0a94c5634c66"
   },
   "outputs": [
    {
     "data": {
      "text/html": [
       "<div>\n",
       "<style scoped>\n",
       "    .dataframe tbody tr th:only-of-type {\n",
       "        vertical-align: middle;\n",
       "    }\n",
       "\n",
       "    .dataframe tbody tr th {\n",
       "        vertical-align: top;\n",
       "    }\n",
       "\n",
       "    .dataframe thead th {\n",
       "        text-align: right;\n",
       "    }\n",
       "</style>\n",
       "<table border=\"1\" class=\"dataframe\">\n",
       "  <thead>\n",
       "    <tr style=\"text-align: right;\">\n",
       "      <th></th>\n",
       "      <th>school_state</th>\n",
       "      <th>teacher_prefix</th>\n",
       "      <th>project_grade_category</th>\n",
       "      <th>teacher_number_of_previously_posted_projects</th>\n",
       "      <th>project_is_approved</th>\n",
       "      <th>clean_categories</th>\n",
       "      <th>clean_subcategories</th>\n",
       "      <th>essay</th>\n",
       "      <th>price</th>\n",
       "    </tr>\n",
       "  </thead>\n",
       "  <tbody>\n",
       "    <tr>\n",
       "      <th>0</th>\n",
       "      <td>ca</td>\n",
       "      <td>mrs</td>\n",
       "      <td>grades_prek_2</td>\n",
       "      <td>53</td>\n",
       "      <td>1</td>\n",
       "      <td>math_science</td>\n",
       "      <td>appliedsciences health_lifescience</td>\n",
       "      <td>i fortunate enough use fairy tale stem kits cl...</td>\n",
       "      <td>725.05</td>\n",
       "    </tr>\n",
       "    <tr>\n",
       "      <th>1</th>\n",
       "      <td>ut</td>\n",
       "      <td>ms</td>\n",
       "      <td>grades_3_5</td>\n",
       "      <td>4</td>\n",
       "      <td>1</td>\n",
       "      <td>specialneeds</td>\n",
       "      <td>specialneeds</td>\n",
       "      <td>imagine 8 9 years old you third grade classroo...</td>\n",
       "      <td>213.03</td>\n",
       "    </tr>\n",
       "  </tbody>\n",
       "</table>\n",
       "</div>"
      ],
      "text/plain": [
       "  school_state  ...   price\n",
       "0           ca  ...  725.05\n",
       "1           ut  ...  213.03\n",
       "\n",
       "[2 rows x 9 columns]"
      ]
     },
     "execution_count": 6,
     "metadata": {
      "tags": []
     },
     "output_type": "execute_result"
    }
   ],
   "source": [
    "project_data.head(2)"
   ]
  },
  {
   "cell_type": "code",
   "execution_count": 0,
   "metadata": {
    "colab": {},
    "colab_type": "code",
    "id": "Z6w1saktVhTj"
   },
   "outputs": [],
   "source": [
    "project_data_resources=pd.read_csv(\"/content/drive/My Drive/Assignments_DonorsChoose_2018/resources.csv\")"
   ]
  },
  {
   "cell_type": "code",
   "execution_count": 0,
   "metadata": {
    "colab": {},
    "colab_type": "code",
    "id": "odRM8xTPZnKQ"
   },
   "outputs": [],
   "source": [
    "#price_data = project_data_resources.groupby('id').agg({'price':'sum', 'quantity':'sum'}).reset_index()\n",
    "#project_data = pd.merge(project_data, price_data, on='id', how='left')"
   ]
  },
  {
   "cell_type": "code",
   "execution_count": 0,
   "metadata": {
    "colab": {
     "base_uri": "https://localhost:8080/",
     "height": 34
    },
    "colab_type": "code",
    "id": "p_3jMiXJV9QU",
    "outputId": "f58432a6-e99f-4fa7-a783-9090e8c363ad"
   },
   "outputs": [
    {
     "data": {
      "text/plain": [
       "(1541272, 4)"
      ]
     },
     "execution_count": 9,
     "metadata": {
      "tags": []
     },
     "output_type": "execute_result"
    }
   ],
   "source": [
    "project_data_resources.shape"
   ]
  },
  {
   "cell_type": "code",
   "execution_count": 0,
   "metadata": {
    "colab": {
     "base_uri": "https://localhost:8080/",
     "height": 284
    },
    "colab_type": "code",
    "id": "GOLgcSFk09Ve",
    "outputId": "21a653db-9194-40d0-f895-f85c7964ac2c"
   },
   "outputs": [
    {
     "data": {
      "text/html": [
       "<div>\n",
       "<style scoped>\n",
       "    .dataframe tbody tr th:only-of-type {\n",
       "        vertical-align: middle;\n",
       "    }\n",
       "\n",
       "    .dataframe tbody tr th {\n",
       "        vertical-align: top;\n",
       "    }\n",
       "\n",
       "    .dataframe thead th {\n",
       "        text-align: right;\n",
       "    }\n",
       "</style>\n",
       "<table border=\"1\" class=\"dataframe\">\n",
       "  <thead>\n",
       "    <tr style=\"text-align: right;\">\n",
       "      <th></th>\n",
       "      <th>school_state</th>\n",
       "      <th>teacher_prefix</th>\n",
       "      <th>project_grade_category</th>\n",
       "      <th>teacher_number_of_previously_posted_projects</th>\n",
       "      <th>project_is_approved</th>\n",
       "      <th>clean_categories</th>\n",
       "      <th>clean_subcategories</th>\n",
       "      <th>essay</th>\n",
       "      <th>price</th>\n",
       "    </tr>\n",
       "  </thead>\n",
       "  <tbody>\n",
       "    <tr>\n",
       "      <th>0</th>\n",
       "      <td>ca</td>\n",
       "      <td>mrs</td>\n",
       "      <td>grades_prek_2</td>\n",
       "      <td>53</td>\n",
       "      <td>1</td>\n",
       "      <td>math_science</td>\n",
       "      <td>appliedsciences health_lifescience</td>\n",
       "      <td>i fortunate enough use fairy tale stem kits cl...</td>\n",
       "      <td>725.05</td>\n",
       "    </tr>\n",
       "    <tr>\n",
       "      <th>1</th>\n",
       "      <td>ut</td>\n",
       "      <td>ms</td>\n",
       "      <td>grades_3_5</td>\n",
       "      <td>4</td>\n",
       "      <td>1</td>\n",
       "      <td>specialneeds</td>\n",
       "      <td>specialneeds</td>\n",
       "      <td>imagine 8 9 years old you third grade classroo...</td>\n",
       "      <td>213.03</td>\n",
       "    </tr>\n",
       "  </tbody>\n",
       "</table>\n",
       "</div>"
      ],
      "text/plain": [
       "  school_state  ...   price\n",
       "0           ca  ...  725.05\n",
       "1           ut  ...  213.03\n",
       "\n",
       "[2 rows x 9 columns]"
      ]
     },
     "execution_count": 10,
     "metadata": {
      "tags": []
     },
     "output_type": "execute_result"
    }
   ],
   "source": [
    "project_data.head(2)"
   ]
  },
  {
   "cell_type": "code",
   "execution_count": 0,
   "metadata": {
    "colab": {},
    "colab_type": "code",
    "id": "ltN_erIX0_oH"
   },
   "outputs": [],
   "source": [
    "x_train,X_test,y_train,Y_test=train_test_split(project_data,project_data['project_is_approved'],test_size=0.2,random_state=42)\n",
    "X_train,X_cv,Y_train,Y_cv=train_test_split(x_train,y_train,test_size=0.2,random_state=42)"
   ]
  },
  {
   "cell_type": "code",
   "execution_count": 0,
   "metadata": {
    "colab": {
     "base_uri": "https://localhost:8080/",
     "height": 306
    },
    "colab_type": "code",
    "id": "u7unBb-b1FdQ",
    "outputId": "24357914-a2ad-4e46-854e-7c7fe1373784"
   },
   "outputs": [
    {
     "name": "stderr",
     "output_type": "stream",
     "text": [
      "IOPub data rate exceeded.\n",
      "The notebook server will temporarily stop sending output\n",
      "to the client in order to avoid crashing it.\n",
      "To change this limit, set the config variable\n",
      "`--NotebookApp.iopub_data_rate_limit`.\n",
      "\n",
      "Current values:\n",
      "NotebookApp.iopub_data_rate_limit=1000000.0 (bytes/sec)\n",
      "NotebookApp.rate_limit_window=3.0 (secs)\n",
      "\n"
     ]
    },
    {
     "name": "stdout",
     "output_type": "stream",
     "text": [
      "[[  106    76 19532 ...     0     0     0]\n",
      " [   78    48  1097 ...     0     0     0]\n",
      " [    4     1    95 ...     0     0     0]\n",
      " ...\n",
      " [   25     3   921 ...     0     0     0]\n",
      " [    4     3   232 ...     0     0     0]\n",
      " [    2     8    40 ...     0     0     0]]\n"
     ]
    }
   ],
   "source": [
    "t = Tokenizer()\n",
    "t.fit_on_texts(X_train['essay'])\n",
    "vocab_size = len(t.word_index) + 1\n",
    "# integer encode the documents\n",
    "encoded_docs = t.texts_to_sequences(X_train['essay'])\n",
    "print(encoded_docs)\n",
    "# pad documents to a max length of 4 words\n",
    "#max_length = 4\n",
    "padded_docs = pad_sequences(encoded_docs, maxlen=300, padding='post')\n",
    "print(padded_docs)\n",
    "# load the whole embedding into memory\n",
    "embeddings_index = dict()"
   ]
  },
  {
   "cell_type": "code",
   "execution_count": 0,
   "metadata": {
    "colab": {},
    "colab_type": "code",
    "id": "ImKIGKamqPp0"
   },
   "outputs": [],
   "source": [
    "with open('/content/drive/My Drive/Assignments_DonorsChoose_2018/glove_vectors', 'rb') as f:\n",
    "    model = pickle.load(f)\n",
    "    glove_words =  set(model.keys())\n",
    "    \n",
    "# for train\n",
    "embedding_matrix = np.zeros((vocab_size, 300))\n",
    "for word, i in t.word_index.items():\n",
    "    if word in glove_words:\n",
    "        embedding_vector = model[word]\n",
    "        embedding_matrix[i] = embedding_vector"
   ]
  },
  {
   "cell_type": "code",
   "execution_count": 0,
   "metadata": {
    "colab": {
     "base_uri": "https://localhost:8080/",
     "height": 306
    },
    "colab_type": "code",
    "id": "XBcxLCa51OnL",
    "outputId": "57f7e15b-cbb1-46c6-99bf-8637bf8d980b"
   },
   "outputs": [
    {
     "name": "stderr",
     "output_type": "stream",
     "text": [
      "IOPub data rate exceeded.\n",
      "The notebook server will temporarily stop sending output\n",
      "to the client in order to avoid crashing it.\n",
      "To change this limit, set the config variable\n",
      "`--NotebookApp.iopub_data_rate_limit`.\n",
      "\n",
      "Current values:\n",
      "NotebookApp.iopub_data_rate_limit=1000000.0 (bytes/sec)\n",
      "NotebookApp.rate_limit_window=3.0 (secs)\n",
      "\n"
     ]
    },
    {
     "name": "stdout",
     "output_type": "stream",
     "text": [
      "[[   38  1502     1 ...     0     0     0]\n",
      " [21017   349  8120 ...     0     0     0]\n",
      " [   14    77   570 ...     0     0     0]\n",
      " ...\n",
      " [    2  1389     1 ...     0     0     0]\n",
      " [   14   273     3 ...     0     0     0]\n",
      " [ 2487  3241  6694 ...     0     0     0]]\n"
     ]
    }
   ],
   "source": [
    "encoded_docs_test = t.texts_to_sequences(X_test['essay'])\n",
    "print(encoded_docs_test)\n",
    "# pad documents to a max length of 4 words\n",
    "#max_length = 4\n",
    "padded_docs_test = pad_sequences(encoded_docs_test, maxlen=300, padding='post')\n",
    "print(padded_docs_test)\n",
    "# load the whole embedding into memory\n"
   ]
  },
  {
   "cell_type": "code",
   "execution_count": 0,
   "metadata": {
    "colab": {
     "base_uri": "https://localhost:8080/",
     "height": 306
    },
    "colab_type": "code",
    "id": "Mbvq3d6d1STx",
    "outputId": "11503478-426c-4242-9b46-a34ade584079"
   },
   "outputs": [
    {
     "name": "stderr",
     "output_type": "stream",
     "text": [
      "IOPub data rate exceeded.\n",
      "The notebook server will temporarily stop sending output\n",
      "to the client in order to avoid crashing it.\n",
      "To change this limit, set the config variable\n",
      "`--NotebookApp.iopub_data_rate_limit`.\n",
      "\n",
      "Current values:\n",
      "NotebookApp.iopub_data_rate_limit=1000000.0 (bytes/sec)\n",
      "NotebookApp.rate_limit_window=3.0 (secs)\n",
      "\n"
     ]
    },
    {
     "name": "stdout",
     "output_type": "stream",
     "text": [
      "[[    4     1  2097 ...     0     0     0]\n",
      " [  306  1340   321 ...     0     0     0]\n",
      " [   29    30    23 ...     0     0     0]\n",
      " ...\n",
      " [   25     3    83 ...     0     0     0]\n",
      " [  281   111 10497 ...     0     0     0]\n",
      " [    2    49   112 ...     0     0     0]]\n"
     ]
    }
   ],
   "source": [
    "encoded_docs_cv = t.texts_to_sequences(X_cv['essay'])\n",
    "print(encoded_docs_cv)\n",
    "# pad documents to a max length of 4 words\n",
    "#max_length = 4\n",
    "padded_docs_cv = pad_sequences(encoded_docs_cv, maxlen=300, padding='post')\n",
    "print(padded_docs_cv)\n",
    "# load the whole embedding into memory\n"
   ]
  },
  {
   "cell_type": "code",
   "execution_count": 0,
   "metadata": {
    "colab": {
     "base_uri": "https://localhost:8080/",
     "height": 343
    },
    "colab_type": "code",
    "id": "54dkK-Yg1Yv-",
    "outputId": "fd391707-3e57-42d0-b8e5-d2a48d56ddbe"
   },
   "outputs": [
    {
     "name": "stdout",
     "output_type": "stream",
     "text": [
      "WARNING:tensorflow:From /usr/local/lib/python3.6/dist-packages/keras/backend/tensorflow_backend.py:541: The name tf.placeholder is deprecated. Please use tf.compat.v1.placeholder instead.\n",
      "\n",
      "WARNING:tensorflow:From /usr/local/lib/python3.6/dist-packages/keras/backend/tensorflow_backend.py:66: The name tf.get_default_graph is deprecated. Please use tf.compat.v1.get_default_graph instead.\n",
      "\n",
      "WARNING:tensorflow:From /usr/local/lib/python3.6/dist-packages/keras/backend/tensorflow_backend.py:4432: The name tf.random_uniform is deprecated. Please use tf.random.uniform instead.\n",
      "\n",
      "WARNING:tensorflow:From /usr/local/lib/python3.6/dist-packages/keras/backend/tensorflow_backend.py:190: The name tf.get_default_session is deprecated. Please use tf.compat.v1.get_default_session instead.\n",
      "\n",
      "WARNING:tensorflow:From /usr/local/lib/python3.6/dist-packages/keras/backend/tensorflow_backend.py:197: The name tf.ConfigProto is deprecated. Please use tf.compat.v1.ConfigProto instead.\n",
      "\n",
      "WARNING:tensorflow:From /usr/local/lib/python3.6/dist-packages/keras/backend/tensorflow_backend.py:203: The name tf.Session is deprecated. Please use tf.compat.v1.Session instead.\n",
      "\n",
      "WARNING:tensorflow:From /usr/local/lib/python3.6/dist-packages/keras/backend/tensorflow_backend.py:207: The name tf.global_variables is deprecated. Please use tf.compat.v1.global_variables instead.\n",
      "\n",
      "WARNING:tensorflow:From /usr/local/lib/python3.6/dist-packages/keras/backend/tensorflow_backend.py:216: The name tf.is_variable_initialized is deprecated. Please use tf.compat.v1.is_variable_initialized instead.\n",
      "\n",
      "WARNING:tensorflow:From /usr/local/lib/python3.6/dist-packages/keras/backend/tensorflow_backend.py:223: The name tf.variables_initializer is deprecated. Please use tf.compat.v1.variables_initializer instead.\n",
      "\n"
     ]
    }
   ],
   "source": [
    "# Headline input: meant to receive sequences of 100 integers, between 1 and 10000.\n",
    "# Note that we can name any layer by passing it a \"name\" argument.\n",
    "Input_Essay = Input(shape=(300,),  name='Input_Essay')\n",
    "\n",
    "# This embedding layer will encode the input sequence\n",
    "# into a sequence of dense 512-dimensional vectors.\n",
    "embedding_essay = Embedding(vocab_size, 300, weights=[embedding_matrix], input_length=300,trainable = False)(Input_Essay)\n",
    "\n",
    "# A LSTM will transform the vector sequence into a single vector,\n",
    "# containing information about the entire sequence\n",
    "\n",
    "#lr= LeakyReLU(alpha = 0.3)(embedding_essay)\n",
    "lstm_out = LSTM(300,return_sequences=True)(embedding_essay)\n",
    "flatten_Essay = Flatten()(lstm_out)\n"
   ]
  },
  {
   "cell_type": "markdown",
   "metadata": {
    "colab_type": "text",
    "id": "QDIcK_Gx1eHP"
   },
   "source": [
    "School_State"
   ]
  },
  {
   "cell_type": "code",
   "execution_count": 0,
   "metadata": {
    "colab": {},
    "colab_type": "code",
    "id": "mk2Cjtpk1e6S"
   },
   "outputs": [],
   "source": [
    "le_school_state = preprocessing.LabelEncoder()\n",
    "Label_encoded_school_state=le_school_state.fit_transform(X_train['school_state'])\n",
    "Label_encoded_school_state_cv=le_school_state.transform(X_cv['school_state'])\n",
    "Label_encoded_school_state_test=le_school_state.transform(X_test['school_state'])"
   ]
  },
  {
   "cell_type": "code",
   "execution_count": 0,
   "metadata": {
    "colab": {},
    "colab_type": "code",
    "id": "_lzo-pa_1ohI"
   },
   "outputs": [],
   "source": [
    "padded_docs_school_state=Label_encoded_school_state\n",
    "padded_docs_cv_school_state=Label_encoded_school_state_cv\n",
    "padded_docs_test_school_state=Label_encoded_school_state_test"
   ]
  },
  {
   "cell_type": "code",
   "execution_count": 0,
   "metadata": {
    "colab": {},
    "colab_type": "code",
    "id": "sBZ76l2c14TP"
   },
   "outputs": [],
   "source": [
    "vocab_size_school_state = le_school_state.classes_"
   ]
  },
  {
   "cell_type": "code",
   "execution_count": 0,
   "metadata": {
    "colab": {},
    "colab_type": "code",
    "id": "goayVknC16Xs"
   },
   "outputs": [],
   "source": [
    "vocab_size_school_state_len=len(vocab_size_school_state)"
   ]
  },
  {
   "cell_type": "code",
   "execution_count": 0,
   "metadata": {
    "colab": {},
    "colab_type": "code",
    "id": "17vMpfAb17Gm"
   },
   "outputs": [],
   "source": [
    "Input_School_State_1 = Input(shape=(1,),  name='Input_School_State')\n",
    "\n",
    "embedding_school_state_1=Embedding(vocab_size_school_state_len, 32, input_length=1)(Input_School_State_1)\n",
    "flatten_School_State_1 = Flatten()(embedding_school_state_1)"
   ]
  },
  {
   "cell_type": "markdown",
   "metadata": {
    "colab_type": "text",
    "id": "xE62L77e1-hi"
   },
   "source": [
    "teacher_prefix"
   ]
  },
  {
   "cell_type": "code",
   "execution_count": 0,
   "metadata": {
    "colab": {},
    "colab_type": "code",
    "id": "8h5Iqgxi192U"
   },
   "outputs": [],
   "source": [
    "le_teacher_prefix = preprocessing.LabelEncoder()\n",
    "Label_encoded_teacher_prefix=le_teacher_prefix.fit_transform(X_train['teacher_prefix'])"
   ]
  },
  {
   "cell_type": "code",
   "execution_count": 0,
   "metadata": {
    "colab": {},
    "colab_type": "code",
    "id": "-Bf2zNCb2DZG"
   },
   "outputs": [],
   "source": [
    "Label_encoded_teacher_prefix_cv=le_teacher_prefix.transform(X_cv['teacher_prefix'])"
   ]
  },
  {
   "cell_type": "code",
   "execution_count": 0,
   "metadata": {
    "colab": {},
    "colab_type": "code",
    "id": "ixZYT7UZ2FZX"
   },
   "outputs": [],
   "source": [
    "Label_encoded_teacher_prefix_test=le_teacher_prefix.transform(X_test['teacher_prefix'])"
   ]
  },
  {
   "cell_type": "code",
   "execution_count": 0,
   "metadata": {
    "colab": {},
    "colab_type": "code",
    "id": "uzHNWrX52HmX"
   },
   "outputs": [],
   "source": [
    "padded_docs_teacher_prefix=Label_encoded_teacher_prefix\n",
    "padded_docs_cv_teacher_prefix=Label_encoded_teacher_prefix_cv\n",
    "padded_docs_test_teacher_prefix=Label_encoded_teacher_prefix_test"
   ]
  },
  {
   "cell_type": "code",
   "execution_count": 0,
   "metadata": {
    "colab": {},
    "colab_type": "code",
    "id": "qcgPh2O32J43"
   },
   "outputs": [],
   "source": [
    "vocab_size_teacher_prefix_len=len(le_teacher_prefix.classes_)"
   ]
  },
  {
   "cell_type": "code",
   "execution_count": 0,
   "metadata": {
    "colab": {},
    "colab_type": "code",
    "id": "8iubTMlW2NTg"
   },
   "outputs": [],
   "source": [
    "Input_teacher_prefix_1 = Input(shape=(1,),  name='Input_teacher_prefix_1')\n",
    "\n",
    "embedding_teacher_prefix_1=Embedding(vocab_size_teacher_prefix_len, 32, input_length=1)(Input_teacher_prefix_1)\n",
    "flatten_teacher_prefix_1 = Flatten()(embedding_teacher_prefix_1)"
   ]
  },
  {
   "cell_type": "markdown",
   "metadata": {
    "colab_type": "text",
    "id": "HlSsFgg92ash"
   },
   "source": [
    "grade_category"
   ]
  },
  {
   "cell_type": "code",
   "execution_count": 0,
   "metadata": {
    "colab": {},
    "colab_type": "code",
    "id": "6c5Da93u2bfa"
   },
   "outputs": [],
   "source": [
    "le_grade_category = preprocessing.LabelEncoder()\n",
    "Label_encoded_grade_category=le_grade_category.fit_transform(X_train['project_grade_category'])"
   ]
  },
  {
   "cell_type": "code",
   "execution_count": 0,
   "metadata": {
    "colab": {},
    "colab_type": "code",
    "id": "yVvW6jnB2eWK"
   },
   "outputs": [],
   "source": [
    "Label_encoded_grade_category_cv=le_grade_category.transform(X_cv['project_grade_category'])"
   ]
  },
  {
   "cell_type": "code",
   "execution_count": 0,
   "metadata": {
    "colab": {},
    "colab_type": "code",
    "id": "QIHb1yLL2giv"
   },
   "outputs": [],
   "source": [
    "Label_encoded_grade_category_test=le_grade_category.transform(X_test['project_grade_category'])\n",
    "vocab_size_grade_category_len=len(le_grade_category.classes_)"
   ]
  },
  {
   "cell_type": "code",
   "execution_count": 0,
   "metadata": {
    "colab": {},
    "colab_type": "code",
    "id": "biiSLQN82isb"
   },
   "outputs": [],
   "source": [
    "padded_docs_project_grade_category=Label_encoded_grade_category\n",
    "padded_docs_cv_project_grade_category=Label_encoded_grade_category_cv\n",
    "padded_docs_test_project_grade_category=Label_encoded_grade_category_test"
   ]
  },
  {
   "cell_type": "code",
   "execution_count": 0,
   "metadata": {
    "colab": {},
    "colab_type": "code",
    "id": "z6yxmUOh2kkN"
   },
   "outputs": [],
   "source": [
    "Input_grade_category_1 = Input(shape=(1,),  name='Input_grade_category_1')\n",
    "embedding_grade_category_1=Embedding(vocab_size_grade_category_len, 32, input_length=1)(Input_grade_category_1)\n",
    "flatten_grade_category_1 = Flatten()(embedding_grade_category_1)"
   ]
  },
  {
   "cell_type": "markdown",
   "metadata": {
    "colab_type": "text",
    "id": "iJVrPL6-2mSD"
   },
   "source": [
    "clean_categories"
   ]
  },
  {
   "cell_type": "code",
   "execution_count": 0,
   "metadata": {
    "colab": {},
    "colab_type": "code",
    "id": "ZmxeE0iQ3CYA"
   },
   "outputs": [],
   "source": [
    "le_clean_categories = preprocessing.LabelEncoder()\n",
    "Label_encoded_clean_categories=le_clean_categories.fit_transform(X_train['clean_categories'])"
   ]
  },
  {
   "cell_type": "code",
   "execution_count": 0,
   "metadata": {
    "colab": {},
    "colab_type": "code",
    "id": "gjrLYc1q3H3T"
   },
   "outputs": [],
   "source": [
    "Label_encoded_clean_categories_cv=le_clean_categories.transform(X_cv['clean_categories'])"
   ]
  },
  {
   "cell_type": "code",
   "execution_count": 0,
   "metadata": {
    "colab": {},
    "colab_type": "code",
    "id": "qad6jIqr3Jkd"
   },
   "outputs": [],
   "source": [
    "Label_encoded_clean_categories_test=le_clean_categories.transform(X_test['clean_categories'])"
   ]
  },
  {
   "cell_type": "code",
   "execution_count": 0,
   "metadata": {
    "colab": {},
    "colab_type": "code",
    "id": "kK2sPaW73Mi9"
   },
   "outputs": [],
   "source": [
    "padded_docs_clean_categories=Label_encoded_clean_categories\n",
    "padded_docs_cv_clean_categories=Label_encoded_clean_categories_cv\n",
    "padded_docs_test_clean_categories=Label_encoded_clean_categories_test"
   ]
  },
  {
   "cell_type": "code",
   "execution_count": 0,
   "metadata": {
    "colab": {},
    "colab_type": "code",
    "id": "KxaZ-pQZ3P9g"
   },
   "outputs": [],
   "source": [
    "vocab_size_grade_category_len=len(le_clean_categories.classes_)"
   ]
  },
  {
   "cell_type": "code",
   "execution_count": 0,
   "metadata": {
    "colab": {},
    "colab_type": "code",
    "id": "Xv2JpYYg3Sf0"
   },
   "outputs": [],
   "source": [
    "Input_clean_categories_1 = Input(shape=(1,),  name='Input_clean_categories_1')\n",
    "\n",
    "embedding_clean_categories_1=Embedding(vocab_size_grade_category_len, 32, input_length=1)(Input_clean_categories_1)\n",
    "flatten_clean_categories_1 = Flatten()(embedding_clean_categories_1)"
   ]
  },
  {
   "cell_type": "markdown",
   "metadata": {
    "colab_type": "text",
    "id": "dL6WzC5n3UWa"
   },
   "source": [
    "clean_subcategories"
   ]
  },
  {
   "cell_type": "code",
   "execution_count": 0,
   "metadata": {
    "colab": {},
    "colab_type": "code",
    "id": "CtdEowV8Gqm3"
   },
   "outputs": [],
   "source": [
    "clean_subcategories_dict=dict()\n",
    "#clean_subcategories_dict.\n",
    "i=1\n",
    "for sent in X_train['clean_subcategories']:\n",
    "    if sent not in clean_subcategories_dict:\n",
    "        clean_subcategories_dict[sent]=i\n",
    "        i=i+1"
   ]
  },
  {
   "cell_type": "code",
   "execution_count": 0,
   "metadata": {
    "colab": {},
    "colab_type": "code",
    "id": "4jb0ba5hGxB4"
   },
   "outputs": [],
   "source": [
    "vocab_size_clean_subcategories=len(clean_subcategories_dict)"
   ]
  },
  {
   "cell_type": "code",
   "execution_count": 0,
   "metadata": {
    "colab": {},
    "colab_type": "code",
    "id": "uErCojz2Gzab"
   },
   "outputs": [],
   "source": [
    "Label_clean_subcategories=[]\n",
    "for sent in X_train['clean_subcategories']:\n",
    "    try:\n",
    "        Label_clean_subcategories.append(clean_subcategories_dict[sent])\n",
    "      \n",
    "    except:\n",
    "        Label_clean_subcategories.append(0)\n",
    "        \n",
    "padded_docs_clean_subcategories = Label_clean_subcategories   "
   ]
  },
  {
   "cell_type": "code",
   "execution_count": 0,
   "metadata": {
    "colab": {},
    "colab_type": "code",
    "id": "OSl_USfKG3kt"
   },
   "outputs": [],
   "source": [
    "padded_docs_clean_subcategories = np.asarray(padded_docs_clean_subcategories)"
   ]
  },
  {
   "cell_type": "code",
   "execution_count": 0,
   "metadata": {
    "colab": {},
    "colab_type": "code",
    "id": "7TkyQ4hRHAMH"
   },
   "outputs": [],
   "source": [
    "#Label_encoded_clean_subcategories_test\n",
    "padded_docs_cv_clean_subcategories=[]\n",
    "Label_encoded_clean_subcategories_cv=[]\n",
    "for sent in X_cv['clean_subcategories']:\n",
    "    try:\n",
    "        Label_encoded_clean_subcategories_cv.append(clean_subcategories_dict[sent])\n",
    "      \n",
    "    except:\n",
    "        Label_encoded_clean_subcategories_cv.append(0)\n",
    "\n",
    "padded_docs_cv_clean_subcategories=Label_encoded_clean_subcategories_cv"
   ]
  },
  {
   "cell_type": "code",
   "execution_count": 0,
   "metadata": {
    "colab": {},
    "colab_type": "code",
    "id": "SzB5GTgUHIlT"
   },
   "outputs": [],
   "source": [
    "padded_docs_cv_clean_subcategories = np.asarray(padded_docs_cv_clean_subcategories)"
   ]
  },
  {
   "cell_type": "code",
   "execution_count": 0,
   "metadata": {
    "colab": {},
    "colab_type": "code",
    "id": "D5vUw0DV3ZYV"
   },
   "outputs": [],
   "source": [
    "#Label_encoded_clean_subcategories_test\n",
    "padded_docs_test_clean_subcategories=[]\n",
    "Label_encoded_clean_subcategories_test=[]\n",
    "for sent in X_test['clean_subcategories']:\n",
    "    try:\n",
    "        Label_encoded_clean_subcategories_test.append(clean_subcategories_dict[sent])\n",
    "      \n",
    "    except:\n",
    "        Label_encoded_clean_subcategories_test.append(0)\n",
    "        \n",
    "\n",
    "padded_docs_test_clean_subcategories=Label_encoded_clean_subcategories_test"
   ]
  },
  {
   "cell_type": "code",
   "execution_count": 0,
   "metadata": {
    "colab": {},
    "colab_type": "code",
    "id": "tQmXrzDu3buU"
   },
   "outputs": [],
   "source": [
    "padded_docs_clean_subcategories = np.asarray(padded_docs_clean_subcategories)\n",
    "padded_docs_test_clean_subcategories=np.asarray(padded_docs_test_clean_subcategories)"
   ]
  },
  {
   "cell_type": "code",
   "execution_count": 0,
   "metadata": {
    "colab": {},
    "colab_type": "code",
    "id": "oBV46ots3fE5"
   },
   "outputs": [],
   "source": [
    "Input_clean_subcategories_1 = Input(shape=(1,), name='Input_clean_subcategories_1')\n",
    "  \n",
    "embedding_clean_subcategories_1=Embedding(vocab_size_clean_subcategories, 28, input_length=1)(Input_clean_subcategories_1)\n",
    "flatten_clean_subcategories_1 = Flatten()(embedding_clean_subcategories_1)"
   ]
  },
  {
   "cell_type": "markdown",
   "metadata": {
    "colab_type": "text",
    "id": "p-uZ6feK33nB"
   },
   "source": [
    "teacher_number_of_previously_posted_projects"
   ]
  },
  {
   "cell_type": "code",
   "execution_count": 0,
   "metadata": {
    "colab": {},
    "colab_type": "code",
    "id": "CR6mKm_-Z8SJ"
   },
   "outputs": [],
   "source": [
    "rem_input_train = np.concatenate((X_train['price'].values.reshape(-1,1),X_train['teacher_number_of_previously_posted_projects'].values.reshape(-1,1)), axis=1)\n",
    "rem_input_cv =    np.concatenate((X_cv['price'].values.reshape(-1,1),X_cv['teacher_number_of_previously_posted_projects'].values.reshape(-1,1)), axis=1)\n",
    "rem_input_test = np.concatenate((X_test['price'].values.reshape(-1,1),X_test['teacher_number_of_previously_posted_projects'].values.reshape(-1,1)), axis=1)"
   ]
  },
  {
   "cell_type": "code",
   "execution_count": 0,
   "metadata": {
    "colab": {},
    "colab_type": "code",
    "id": "IKqOOmgHZ8qO"
   },
   "outputs": [],
   "source": [
    "#from sklearn.preprocessing import StandardScalar\n",
    "mms = StandardScaler().fit(rem_input_train)\n",
    "rem_input_train_norm = mms.transform(rem_input_train)\n",
    "rem_input_cv_norm = mms.transform(rem_input_cv)\n",
    "rem_input_test_norm = mms.transform(rem_input_test)"
   ]
  },
  {
   "cell_type": "code",
   "execution_count": 0,
   "metadata": {
    "colab": {},
    "colab_type": "code",
    "id": "0cK_dK3bZ78q"
   },
   "outputs": [],
   "source": [
    "remaining_input = Input(shape=(2,), name='remaining_input')\n",
    "dense_1 = Dense(1, activation='relu',kernel_initializer=\"uniform\")(remaining_input)"
   ]
  },
  {
   "cell_type": "code",
   "execution_count": 0,
   "metadata": {
    "colab": {},
    "colab_type": "code",
    "id": "wh-jtZgV48Ce"
   },
   "outputs": [],
   "source": [
    "y = Concatenate()([flatten_Essay, flatten_School_State_1,flatten_teacher_prefix_1,flatten_grade_category_1,flatten_clean_categories_1,flatten_clean_subcategories_1,dense_1])"
   ]
  },
  {
   "cell_type": "code",
   "execution_count": 0,
   "metadata": {
    "colab": {
     "base_uri": "https://localhost:8080/",
     "height": 156
    },
    "colab_type": "code",
    "id": "gZmuJ5rf4-ra",
    "outputId": "fae7c01b-0089-4530-9e2a-d3a6f91a3ece"
   },
   "outputs": [
    {
     "name": "stdout",
     "output_type": "stream",
     "text": [
      "WARNING:tensorflow:From /usr/local/lib/python3.6/dist-packages/keras/backend/tensorflow_backend.py:4479: The name tf.truncated_normal is deprecated. Please use tf.random.truncated_normal instead.\n",
      "\n",
      "WARNING:tensorflow:From /usr/local/lib/python3.6/dist-packages/keras/backend/tensorflow_backend.py:148: The name tf.placeholder_with_default is deprecated. Please use tf.compat.v1.placeholder_with_default instead.\n",
      "\n",
      "WARNING:tensorflow:From /usr/local/lib/python3.6/dist-packages/keras/backend/tensorflow_backend.py:3733: calling dropout (from tensorflow.python.ops.nn_ops) with keep_prob is deprecated and will be removed in a future version.\n",
      "Instructions for updating:\n",
      "Please use `rate` instead of `keep_prob`. Rate should be set to `rate = 1 - keep_prob`.\n"
     ]
    }
   ],
   "source": [
    "y = Dense(64, activation='relu',kernel_initializer=\"he_normal\",kernel_regularizer=regularizers.l2(0.001))(y)\n",
    "y=  Dropout(0.3)(y)\n",
    "\n",
    "\n",
    "y = Dense(32, activation='relu',kernel_initializer=\"he_normal\",kernel_regularizer=regularizers.l2(0.001))(y)\n",
    "y=  Dropout(0.3)(y)\n",
    "y = BatchNormalization()(y)\n",
    "\n",
    "y = Dense(20, activation='relu',kernel_initializer=\"he_normal\",kernel_regularizer=regularizers.l2(0.001))(y)\n",
    "y=  Dropout(0.3)(y)\n",
    "\n",
    "y = Dense(20, activation='relu',kernel_initializer=\"he_normal\",kernel_regularizer=regularizers.l2(0.001))(y)\n",
    "y=  Dropout(0.3)(y)\n",
    "\n",
    "\n",
    "\n",
    "\n",
    "\n",
    "\n",
    "main_output = Dense(1, activation='sigmoid', name='main_output')(y)"
   ]
  },
  {
   "cell_type": "code",
   "execution_count": 0,
   "metadata": {
    "colab": {},
    "colab_type": "code",
    "id": "2xI7NaaU5Edw"
   },
   "outputs": [],
   "source": [
    "def auc(y_true,y_pred):\n",
    "    return tf.py_func(roc_auc_score, (y_true, y_pred), tf.double)"
   ]
  },
  {
   "cell_type": "code",
   "execution_count": 0,
   "metadata": {
    "colab": {
     "base_uri": "https://localhost:8080/",
     "height": 377
    },
    "colab_type": "code",
    "id": "RFE64wnV5IF3",
    "outputId": "c1a161bf-ec22-4147-bedd-edde2b76382f"
   },
   "outputs": [
    {
     "name": "stdout",
     "output_type": "stream",
     "text": [
      "WARNING:tensorflow:From /usr/local/lib/python3.6/dist-packages/keras/optimizers.py:793: The name tf.train.Optimizer is deprecated. Please use tf.compat.v1.train.Optimizer instead.\n",
      "\n",
      "WARNING:tensorflow:From /usr/local/lib/python3.6/dist-packages/keras/backend/tensorflow_backend.py:3657: The name tf.log is deprecated. Please use tf.math.log instead.\n",
      "\n",
      "WARNING:tensorflow:From /usr/local/lib/python3.6/dist-packages/tensorflow_core/python/ops/nn_impl.py:183: where (from tensorflow.python.ops.array_ops) is deprecated and will be removed in a future version.\n",
      "Instructions for updating:\n",
      "Use tf.where in 2.0, which has the same broadcast rule as np.where\n",
      "WARNING:tensorflow:From <ipython-input-55-1ce08cb8f48c>:2: py_func (from tensorflow.python.ops.script_ops) is deprecated and will be removed in a future version.\n",
      "Instructions for updating:\n",
      "tf.py_func is deprecated in TF V2. Instead, there are two\n",
      "    options available in V2.\n",
      "    - tf.py_function takes a python function which manipulates tf eager\n",
      "    tensors instead of numpy arrays. It's easy to convert a tf eager tensor to\n",
      "    an ndarray (just call tensor.numpy()) but having access to eager tensors\n",
      "    means `tf.py_function`s can use accelerators such as GPUs as well as\n",
      "    being differentiable using a gradient tape.\n",
      "    - tf.numpy_function maintains the semantics of the deprecated tf.py_func\n",
      "    (it is not differentiable, and manipulates numpy arrays). It drops the\n",
      "    stateful argument making all functions stateful.\n",
      "    \n"
     ]
    }
   ],
   "source": [
    "learning_rate = 0.001\n",
    "decay_rate = learning_rate / 10\n",
    "#optimizers.Adam,optimizers.Nadam,optimizers.RMSprop\n",
    "#from keras.optimizers import Adam\n",
    "model = Model(inputs=[Input_Essay,Input_School_State_1,Input_teacher_prefix_1,Input_grade_category_1,Input_clean_categories_1,Input_clean_subcategories_1,remaining_input], outputs=[main_output])\n",
    "#adam = optimizers.Adam(lr=0.001, beta_1=0.9, beta_2=0.999, amsgrad=False)\n",
    "#lr=0.01,\n",
    "#decay=decay_rate\n",
    "adam = optimizers.Adam(lr=0.001)\n",
    "model.compile(loss=\"binary_crossentropy\", optimizer=adam, metrics=[auc])"
   ]
  },
  {
   "cell_type": "code",
   "execution_count": 0,
   "metadata": {
    "colab": {
     "base_uri": "https://localhost:8080/",
     "height": 1000
    },
    "colab_type": "code",
    "id": "jL4ePWYC5KOG",
    "outputId": "8fcae3aa-8f31-40e4-b7e4-8eb4768c88fb"
   },
   "outputs": [
    {
     "name": "stdout",
     "output_type": "stream",
     "text": [
      "Model: \"model_1\"\n",
      "__________________________________________________________________________________________________\n",
      "Layer (type)                    Output Shape         Param #     Connected to                     \n",
      "==================================================================================================\n",
      "Input_Essay (InputLayer)        (None, 300)          0                                            \n",
      "__________________________________________________________________________________________________\n",
      "embedding_1 (Embedding)         (None, 300, 300)     14217900    Input_Essay[0][0]                \n",
      "__________________________________________________________________________________________________\n",
      "Input_School_State (InputLayer) (None, 1)            0                                            \n",
      "__________________________________________________________________________________________________\n",
      "Input_teacher_prefix_1 (InputLa (None, 1)            0                                            \n",
      "__________________________________________________________________________________________________\n",
      "Input_grade_category_1 (InputLa (None, 1)            0                                            \n",
      "__________________________________________________________________________________________________\n",
      "Input_clean_categories_1 (Input (None, 1)            0                                            \n",
      "__________________________________________________________________________________________________\n",
      "Input_clean_subcategories_1 (In (None, 1)            0                                            \n",
      "__________________________________________________________________________________________________\n",
      "lstm_1 (LSTM)                   (None, 300, 300)     721200      embedding_1[0][0]                \n",
      "__________________________________________________________________________________________________\n",
      "embedding_2 (Embedding)         (None, 1, 32)        1632        Input_School_State[0][0]         \n",
      "__________________________________________________________________________________________________\n",
      "embedding_3 (Embedding)         (None, 1, 32)        160         Input_teacher_prefix_1[0][0]     \n",
      "__________________________________________________________________________________________________\n",
      "embedding_4 (Embedding)         (None, 1, 32)        128         Input_grade_category_1[0][0]     \n",
      "__________________________________________________________________________________________________\n",
      "embedding_5 (Embedding)         (None, 1, 32)        1632        Input_clean_categories_1[0][0]   \n",
      "__________________________________________________________________________________________________\n",
      "embedding_6 (Embedding)         (None, 1, 28)        10864       Input_clean_subcategories_1[0][0]\n",
      "__________________________________________________________________________________________________\n",
      "remaining_input (InputLayer)    (None, 2)            0                                            \n",
      "__________________________________________________________________________________________________\n",
      "flatten_1 (Flatten)             (None, 90000)        0           lstm_1[0][0]                     \n",
      "__________________________________________________________________________________________________\n",
      "flatten_2 (Flatten)             (None, 32)           0           embedding_2[0][0]                \n",
      "__________________________________________________________________________________________________\n",
      "flatten_3 (Flatten)             (None, 32)           0           embedding_3[0][0]                \n",
      "__________________________________________________________________________________________________\n",
      "flatten_4 (Flatten)             (None, 32)           0           embedding_4[0][0]                \n",
      "__________________________________________________________________________________________________\n",
      "flatten_5 (Flatten)             (None, 32)           0           embedding_5[0][0]                \n",
      "__________________________________________________________________________________________________\n",
      "flatten_6 (Flatten)             (None, 28)           0           embedding_6[0][0]                \n",
      "__________________________________________________________________________________________________\n",
      "dense_1 (Dense)                 (None, 1)            3           remaining_input[0][0]            \n",
      "__________________________________________________________________________________________________\n",
      "concatenate_1 (Concatenate)     (None, 90157)        0           flatten_1[0][0]                  \n",
      "                                                                 flatten_2[0][0]                  \n",
      "                                                                 flatten_3[0][0]                  \n",
      "                                                                 flatten_4[0][0]                  \n",
      "                                                                 flatten_5[0][0]                  \n",
      "                                                                 flatten_6[0][0]                  \n",
      "                                                                 dense_1[0][0]                    \n",
      "__________________________________________________________________________________________________\n",
      "dense_2 (Dense)                 (None, 64)           5770112     concatenate_1[0][0]              \n",
      "__________________________________________________________________________________________________\n",
      "dropout_1 (Dropout)             (None, 64)           0           dense_2[0][0]                    \n",
      "__________________________________________________________________________________________________\n",
      "dense_3 (Dense)                 (None, 32)           2080        dropout_1[0][0]                  \n",
      "__________________________________________________________________________________________________\n",
      "dropout_2 (Dropout)             (None, 32)           0           dense_3[0][0]                    \n",
      "__________________________________________________________________________________________________\n",
      "batch_normalization_1 (BatchNor (None, 32)           128         dropout_2[0][0]                  \n",
      "__________________________________________________________________________________________________\n",
      "dense_4 (Dense)                 (None, 20)           660         batch_normalization_1[0][0]      \n",
      "__________________________________________________________________________________________________\n",
      "dropout_3 (Dropout)             (None, 20)           0           dense_4[0][0]                    \n",
      "__________________________________________________________________________________________________\n",
      "dense_5 (Dense)                 (None, 20)           420         dropout_3[0][0]                  \n",
      "__________________________________________________________________________________________________\n",
      "dropout_4 (Dropout)             (None, 20)           0           dense_5[0][0]                    \n",
      "__________________________________________________________________________________________________\n",
      "main_output (Dense)             (None, 1)            21          dropout_4[0][0]                  \n",
      "==================================================================================================\n",
      "Total params: 20,726,940\n",
      "Trainable params: 6,508,976\n",
      "Non-trainable params: 14,217,964\n",
      "__________________________________________________________________________________________________\n"
     ]
    }
   ],
   "source": [
    "model.summary()"
   ]
  },
  {
   "cell_type": "code",
   "execution_count": 0,
   "metadata": {
    "colab": {
     "base_uri": "https://localhost:8080/",
     "height": 462
    },
    "colab_type": "code",
    "id": "elGpACu65NJN",
    "outputId": "85609736-21f8-4caa-a9eb-ab257be1a472"
   },
   "outputs": [
    {
     "name": "stdout",
     "output_type": "stream",
     "text": [
      "WARNING:tensorflow:From /usr/local/lib/python3.6/dist-packages/keras/backend/tensorflow_backend.py:1033: The name tf.assign_add is deprecated. Please use tf.compat.v1.assign_add instead.\n",
      "\n",
      "WARNING:tensorflow:From /usr/local/lib/python3.6/dist-packages/keras/backend/tensorflow_backend.py:1020: The name tf.assign is deprecated. Please use tf.compat.v1.assign instead.\n",
      "\n",
      "Train on 69918 samples, validate on 17480 samples\n",
      "Epoch 1/10\n",
      "69918/69918 [==============================] - 65s 930us/step - loss: 0.8545 - auc: 0.5316 - val_loss: 0.6359 - val_auc: 0.6506\n",
      "Epoch 2/10\n",
      "69918/69918 [==============================] - 64s 914us/step - loss: 0.6163 - auc: 0.6026 - val_loss: 0.5799 - val_auc: 0.6856\n",
      "Epoch 3/10\n",
      "69918/69918 [==============================] - 64s 909us/step - loss: 0.5346 - auc: 0.6644 - val_loss: 0.5495 - val_auc: 0.7317\n",
      "Epoch 4/10\n",
      "69918/69918 [==============================] - 64s 919us/step - loss: 0.4971 - auc: 0.6958 - val_loss: 0.5087 - val_auc: 0.7445\n",
      "Epoch 5/10\n",
      "69918/69918 [==============================] - 64s 919us/step - loss: 0.4721 - auc: 0.7186 - val_loss: 0.4814 - val_auc: 0.7508\n",
      "Epoch 6/10\n",
      "69918/69918 [==============================] - 64s 911us/step - loss: 0.4500 - auc: 0.7339 - val_loss: 0.4465 - val_auc: 0.7569\n",
      "Epoch 7/10\n",
      "69918/69918 [==============================] - 64s 910us/step - loss: 0.4498 - auc: 0.7404 - val_loss: 0.4403 - val_auc: 0.7552\n",
      "Epoch 8/10\n",
      "69918/69918 [==============================] - 64s 910us/step - loss: 0.4312 - auc: 0.7530 - val_loss: 0.4296 - val_auc: 0.7577\n",
      "Epoch 9/10\n",
      "69918/69918 [==============================] - 64s 918us/step - loss: 0.4193 - auc: 0.7654 - val_loss: 0.4266 - val_auc: 0.7602\n",
      "Epoch 10/10\n",
      "69918/69918 [==============================] - 64s 909us/step - loss: 0.4147 - auc: 0.7723 - val_loss: 0.4263 - val_auc: 0.7579\n"
     ]
    }
   ],
   "source": [
    "model_1=model.fit([padded_docs, padded_docs_school_state,padded_docs_teacher_prefix,padded_docs_project_grade_category,padded_docs_clean_categories,padded_docs_clean_subcategories,rem_input_train_norm],Y_train,epochs=10 ,batch_size=512,validation_data=([padded_docs_cv,padded_docs_cv_school_state,padded_docs_cv_teacher_prefix,padded_docs_cv_project_grade_category,padded_docs_cv_clean_categories,padded_docs_cv_clean_subcategories,rem_input_cv_norm], Y_cv))"
   ]
  },
  {
   "cell_type": "code",
   "execution_count": 0,
   "metadata": {
    "colab": {},
    "colab_type": "code",
    "id": "Y632H9s-JWhW"
   },
   "outputs": [],
   "source": [
    "import pickle \n",
    "filename = '/content/drive/My Drive/model/donor_model1.pkl'\n",
    "saved_model = pickle.dump(model,open('/content/drive/My Drive/donor_model1.pkl','wb')) "
   ]
  },
  {
   "cell_type": "code",
   "execution_count": 0,
   "metadata": {
    "colab": {},
    "colab_type": "code",
    "id": "lKRkNRG65RnO"
   },
   "outputs": [],
   "source": [
    "model_history=model.predict([padded_docs_test,padded_docs_test_school_state,padded_docs_test_teacher_prefix,padded_docs_test_project_grade_category,padded_docs_test_clean_categories,padded_docs_test_clean_subcategories,rem_input_test_norm])"
   ]
  },
  {
   "cell_type": "code",
   "execution_count": 0,
   "metadata": {
    "colab": {
     "base_uri": "https://localhost:8080/",
     "height": 365
    },
    "colab_type": "code",
    "id": "JcYTRD8D5Yg4",
    "outputId": "e939158b-2059-4aa8-c55f-c0b6f8f9c2e3"
   },
   "outputs": [
    {
     "data": {
      "image/png": "[encoded data removed]",
      "text/plain": [
       "<Figure size 1080x360 with 1 Axes>"
      ]
     },
     "metadata": {
      "tags": []
     },
     "output_type": "display_data"
    }
   ],
   "source": [
    "x = list(range(10))\n",
    "vy = model_1.history['auc']\n",
    "ty = model_1.history['val_auc']\n",
    "plt.figure(figsize=(15,5))\n",
    "plt.plot(x, ty, 'b', label=\"Validation AUC\")\n",
    "plt.plot(x, vy, 'r', label=\"Train AUC\")\n",
    "plt.xlabel('Epochs') \n",
    "plt.ylabel('AUC')\n",
    "plt.title('\\nTrain and validation AUC VS Epochs')\n",
    "plt.legend()\n",
    "plt.grid()\n",
    "plt.show()"
   ]
  },
  {
   "cell_type": "code",
   "execution_count": 0,
   "metadata": {
    "colab": {
     "base_uri": "https://localhost:8080/",
     "height": 365
    },
    "colab_type": "code",
    "id": "aR1i3oif5d4r",
    "outputId": "a7639ac1-cc2b-44d0-bdb6-2c4be040137c"
   },
   "outputs": [
    {
     "data": {
      "image/png": "[encoded data removed]",
      "text/plain": [
       "<Figure size 1080x360 with 1 Axes>"
      ]
     },
     "metadata": {
      "tags": []
     },
     "output_type": "display_data"
    }
   ],
   "source": [
    "import matplotlib.pyplot as plt\n",
    "\n",
    "x = list(range(10))\n",
    "vy = model_1.history['loss']\n",
    "ty = model_1.history['val_loss']\n",
    "plt.figure(figsize=(15,5))\n",
    "plt.plot(x, ty, 'b', label=\"Validation Loss\")\n",
    "plt.plot(x, vy, 'r', label=\"Train LOSS\")\n",
    "plt.xlabel('Epochs') \n",
    "plt.ylabel('Binary cross entropy loss')\n",
    "plt.title('\\nBinary cross entropy loss VS Epochs')\n",
    "plt.legend()\n",
    "plt.grid()\n",
    "plt.show()"
   ]
  },
  {
   "cell_type": "code",
   "execution_count": 0,
   "metadata": {
    "colab": {
     "base_uri": "https://localhost:8080/",
     "height": 265
    },
    "colab_type": "code",
    "id": "N5vkWHGu5hId",
    "outputId": "3dbf72d2-a7dd-4132-9adc-6fab777ee6e8"
   },
   "outputs": [
    {
     "data": {
      "image/png": "[encoded data removed]",
      "text/plain": [
       "<Figure size 432x288 with 1 Axes>"
      ]
     },
     "metadata": {
      "tags": []
     },
     "output_type": "display_data"
    }
   ],
   "source": [
    "from sklearn.metrics import roc_curve\n",
    "from sklearn.metrics import roc_auc_score\n",
    "fpr, tpr, _ = roc_curve(Y_test,  model_history)\n",
    "auc = roc_auc_score(Y_test, model_history)\n",
    "plt.plot(fpr,tpr,label=\"data 1, auc=\"+str(auc))\n",
    "plt.legend(loc=4)\n",
    "#plt.xlabel('Epochs') \n",
    "plt.ylabel('Test AUC')\n",
    "plt.show()"
   ]
  },
  {
   "cell_type": "code",
   "execution_count": 0,
   "metadata": {
    "colab": {},
    "colab_type": "code",
    "id": "DgW1qu43e_Im"
   },
   "outputs": [],
   "source": []
  }
 ],
 "metadata": {
  "accelerator": "GPU",
  "colab": {
   "collapsed_sections": [],
   "name": "DONORS_LSTM_Model1.ipynb",
   "provenance": [],
   "toc_visible": true
  },
  "kernelspec": {
   "display_name": "Python 3",
   "language": "python",
   "name": "python3"
  },
  "language_info": {
   "codemirror_mode": {
    "name": "ipython",
    "version": 3
   },
   "file_extension": ".py",
   "mimetype": "text/x-python",
   "name": "python",
   "nbconvert_exporter": "python",
   "pygments_lexer": "ipython3",
   "version": "3.6.4"
  }
 },
 "nbformat": 4,
 "nbformat_minor": 1
}
